{
 "cells": [
  {
   "cell_type": "markdown",
   "metadata": {},
   "source": [
    "# Tarea 1\n",
    "Javier Tello"
   ]
  },
  {
   "cell_type": "code",
   "execution_count": 5,
   "metadata": {
    "collapsed": true
   },
   "outputs": [],
   "source": [
    "from pylab import *\n",
    "%matplotlib inline"
   ]
  },
  {
   "cell_type": "markdown",
   "metadata": {},
   "source": [
    "# 1.-\n",
    "\n",
    "Sabemos que en general \n",
    "\n",
    "$$\n",
    "\\vec y(\\vec x, t) = \\vec y(x_0,t_0) + \\int_ i^f\\! \\vec f( \\vec y , t) dt\n",
    "$$\n",
    "\n",
    "con i el tiempo inicial $t_0$, f el tiempo final, $\\vec y(x_0,t_0)$ la posición inicial y $\\vec f( \\vec y , t)$ la derivada de $\\vec y$. Lo que estos métodos hacen es usar la expansión de taylor de $\\vec f$ de diferentes maneras para aproximar $\\vec f$. Esto hace más fácil la integración, la cual se hace en pequeños intervalos de integración. Si estos son suficientemente pequeños se puede hacer un método iterativo donde a cada punto se le añade su incremento multiplicado por el paso y esto aproxima la integral. Al hacer el método iterativo \n",
    "\n",
    "$$\n",
    "\\vec y(\\vec x_ {n+1}, t_ {n+1}) = \\vec y(x_n,t_n) + \\int_ i^f\\! \\vec f( \\vec y_n , t_n) dt\n",
    "$$\n",
    "\n",
    "Para cada método aproximaremos $\\vec f$ de una manera diferente. "
   ]
  },
  {
   "cell_type": "markdown",
   "metadata": {},
   "source": [
    "# Euler\n",
    "\n",
    "Aquí aproximaremos $\\vec f$ a su primer término en la serie de Taylor alrededor de t=0. Esto es\n",
    "\n",
    "$$\n",
    "\\vec f( \\vec y , t+h) = \\vec f( \\vec y_0, t_0) + O(h)\n",
    "$$\n",
    "\n",
    "Y así, la ecuación de arriba se vuelve\n",
    "\n",
    "$$\n",
    "\\vec y = y( \\vec x_0, t_0) + \\int_ 0^h\\! \\vec f( \\vec y_0 , t_0) dt = y( \\vec x_0, t_0) + h\\vec f( \\vec y_0 , t_0) + O(h^2)\n",
    "$$\n",
    "\n",
    "Haciendo esto para un paso de integración h se puede programar lo siguiente"
   ]
  },
  {
   "cell_type": "code",
   "execution_count": 3,
   "metadata": {
    "collapsed": true
   },
   "outputs": [],
   "source": [
    "def euler(func,p_ini,t,h=0.1):\n",
    "    tiempos = arange(t[0],t[1]+h,h)\n",
    "    sol = zeros((len(tiempos),len(p_ini)))\n",
    "    sol[0,:] = p_ini \n",
    "    for i in xrange(len(tiempos)-1):\n",
    "        sol[i+1,:] = sol[i,:] + func(sol[i,:],tiempos[i])*h\n",
    "    return tiempos,sol"
   ]
  },
  {
   "cell_type": "markdown",
   "metadata": {},
   "source": [
    "# Taylor a segundo orden\n",
    "\n",
    "Haciendo la misma serie de Taylor anterior pero a un orden más se obtiene\n",
    "\n",
    "$$\n",
    "\\vec f( \\vec y , t+h) = \\vec f( \\vec y_0, t_0) + t\\vec f'( \\vec y_0, t_0) + O(h^2)\n",
    "$$\n",
    "\n",
    "Y regresando a la primer ecuación se obtiene \n",
    "\n",
    "$$\n",
    "\\vec y = y( \\vec x_0, t_0) + h\\vec f( \\vec y_0 , t_0) + \\frac {h^2}{2}\\vec f'( \\vec y_0, t_0) + O(h^3)\n",
    "$$\n",
    "\n",
    "Por otro lado, sabemos que\n",
    "\n",
    "$$\n",
    "\\vec f'( \\vec y, t) = \\frac{d\\vec f(\\vec y,t)}{dt} = \\frac{\\delta \\vec f}{\\delta t} + \\frac{\\delta \\vec f}{\\delta \\vec y} \\frac{\\delta \\vec y}{\\delta t} = \\frac{\\delta \\vec f}{\\delta t} + \\frac{\\delta \\vec f}{\\delta \\vec y} \\vec f\n",
    "$$\n",
    "\n",
    "Finalmente obtenemos\n",
    "\n",
    "$$\n",
    "\\vec y = y( \\vec x_0, t_0) + h\\vec f( \\vec y_0 , t_0) + \\frac {h^2}{2} \\left ( \\frac{\\delta \\vec f}{\\delta t} + \\frac{\\delta \\vec f}{\\delta \\vec y} \\vec f \\right ) + O(h^3)\n",
    "$$\n",
    "\n",
    "Donde en realidad $\\frac{\\delta \\vec f}{\\delta \\vec y}$ es el jacobiano. "
   ]
  },
  {
   "cell_type": "code",
   "execution_count": 4,
   "metadata": {
    "collapsed": true
   },
   "outputs": [],
   "source": [
    "def T2(ec,d_f,p_ini,t,h=0.1):\n",
    "    tiemp = arange(t[0],t[1]+h,h)\n",
    "    sol = zeros((len(tiemp),len(p_ini)))\n",
    "    sol[0,:] = p_ini \n",
    "    for i in xrange(len(tiemp)-1):\n",
    "        f = ec(sol[i,:],tiemp[i])\n",
    "        dv,jac = d_f(sol[i,:],tiemp[i])\n",
    "        sol[i+1,:] = sol[i,:] + f*h + 0.5*h*h*( dot(f,jac) + dv)\n",
    "    return tiemp,sol"
   ]
  },
  {
   "cell_type": "markdown",
   "metadata": {},
   "source": [
    "# Runge-Kutta de segundo orden\n",
    "\n",
    "Viendo la primer ecuación, podemos notar que si el intervalo es simétrico y se integra un término de la serie de Taylor con exponente impar, este se cancelará. Como los intervalos temporales son de longitud h, pondremos la serie de Taylor de primer orden alrededor de $\\vec y(x_0,t_0 + h/2)$\n",
    "\n",
    "$$\n",
    "\\vec f( \\vec y , t+h) = \\vec f( \\vec y_0 + \\frac{h}{2} \\vec f(\\vec y_0,t_0), t_0 + \\frac{h}{2}) + t\\vec f'( \\vec y_0 + \\frac{h}{2} \\vec f(\\vec y_0,t_0), t_0 + \\frac{h}{2}) + O(h^2)\n",
    "$$\n",
    "\n",
    "Así el término lineal se cancela y queda de la primer ecuación\n",
    "\n",
    "$$\n",
    "\\vec y = y( \\vec x_0, t_0) + h\\vec f( \\vec y_0 + \\frac{h}{2} \\vec f(\\vec y_0,t_0), t_0 + \\frac{h}{2}) + O(h^3)\n",
    "$$\n",
    "\n",
    "Donde el término $\\vec y_0 + \\frac{h}{2} \\vec f(\\vec y_0,t_0)$ es la integral de la expansión de Taylor a primer orden de $\\vec y(x_0,t_0 + h/2)$. Es como si usáramos Euler para esto."
   ]
  },
  {
   "cell_type": "code",
   "execution_count": 5,
   "metadata": {
    "collapsed": true
   },
   "outputs": [],
   "source": [
    "def rk2(ec,p_ini,t,h=0.1):\n",
    "    tiemp = arange(t[0],t[1]+h,h)\n",
    "    sol = zeros((len(tiemp),len(p_ini)))\n",
    "    sol[0,:] = p_ini\n",
    "    for i in xrange(len(tiemp)-1):\n",
    "        k = h*ec(sol[i,:],tiemp[i])\n",
    "        sol[i+1,:] = sol[i,:] + h*ec(sol[i,:]+0.5*k,tiemp[i]+0.5*h)\n",
    "    return tiemp,sol"
   ]
  },
  {
   "cell_type": "markdown",
   "metadata": {},
   "source": [
    "# Runge-Kutta de cuarto orden\n",
    "\n",
    "Haciendo el mismo desarrollo anterior, pero tomando dos términos más de la serie de Taylor se puede llegar a la expresión de cuarto orden de Runge Kutta.\n",
    "$$\n",
    "\\vec y = y( \\vec x_0, t_0) + \\frac {h}{6} \\left ( k_1 + 2k_2 + 2k_3 + k_4 \\right ) + O(h^5)\n",
    "$$\n",
    "donde\n",
    "$$\n",
    "k_1 = \\vec f (\\vec x_0, t_0)\n",
    "$$\n",
    "$$\n",
    "k_2 = \\vec f (\\vec x_0 + (h/2)k_1 , t_0 + h/2)\n",
    "$$\n",
    "$$\n",
    "k_3 = \\vec f (\\vec x_0 + (h/2)k_2 , t_0 + h/2)\n",
    "$$\n",
    "$$\n",
    "k_4 = \\vec f (\\vec x_0 + hk_3 , t_0 + h)\n",
    "$$"
   ]
  },
  {
   "cell_type": "code",
   "execution_count": 6,
   "metadata": {
    "collapsed": true
   },
   "outputs": [],
   "source": [
    "def rk4(ec,p_ini,x,h=0.1):\n",
    "    tiempos = arange(x[0],x[1]+h,h)\n",
    "    sol = zeros((len(tiempos),len(p_ini)))\n",
    "    sol[0,:] = p_ini\n",
    "    for i in xrange(len(tiempos)-1):\n",
    "        k1 = ec(sol[i,:],tiempos[i])\n",
    "        k2 = ec(sol[i,:]+0.5*h*k1,tiempos[i]+0.5*h)\n",
    "        k3 = ec(sol[i,:]+0.5*h*k2,tiempos[i]+0.5*h)\n",
    "        k4 = ec(sol[i,:]+h*k3,tiempos[i]+h)\n",
    "        sol[i+1,:] = sol[i,:] + (h/6.)*(k1+2*k2+2*k3+k4)\n",
    "        \n",
    "    return tiempos,sol"
   ]
  },
  {
   "cell_type": "markdown",
   "metadata": {
    "collapsed": true
   },
   "source": [
    "Dada la ecuación de la tarea podemos llegar a un sistema de ecuaciones diferenciales de primer orden y resolver con estos métodos. \n",
    "\n",
    "$$\n",
    "x'' + 0.5 x' + sin( x) = exp(-t)sin(3t)\n",
    "$$\n",
    "\n",
    "$$\n",
    "dx = u\n",
    "$$\n",
    "$$\n",
    "du = u' = x'' = -0.5 x' - sin( x) + exp(-t)sin(3t)\n",
    "$$\n",
    "\n",
    "El sistema de ecuaciones está programado en ec1 y su derivada con respecto a t y con respecto a $\\vec x$ están en d_ec1."
   ]
  },
  {
   "cell_type": "code",
   "execution_count": 7,
   "metadata": {
    "collapsed": true
   },
   "outputs": [],
   "source": [
    "def ec1(x,t):\n",
    "    dx = x[1]\n",
    "    du = -(0.5)*x[1] - sin(x[0]) + exp(-t)*sin(3*t)\n",
    "    return array([dx,du])\n",
    "\n",
    "def d_ec1(x,t):\n",
    "    return array([0,exp(-t)*cos(3*t)-t*exp(-t)*sin(3*t)]),array([[0,1],[-cos(x[0]),-0.5]])"
   ]
  },
  {
   "cell_type": "markdown",
   "metadata": {},
   "source": [
    "Y con cada uno de los métodos la solución es la siguiente.\n",
    "\n",
    "Euler"
   ]
  },
  {
   "cell_type": "code",
   "execution_count": 8,
   "metadata": {
    "collapsed": false
   },
   "outputs": [
    {
     "data": {
      "image/png": "[encoded data removed]",
      "text/plain": [
       "<matplotlib.figure.Figure at 0x7295a58>"
      ]
     },
     "metadata": {},
     "output_type": "display_data"
    }
   ],
   "source": [
    "t,sol = euler(ec1,[0,1],[0,50])\n",
    "plot(t,sol[:,0])\n",
    "show()"
   ]
  },
  {
   "cell_type": "markdown",
   "metadata": {},
   "source": [
    "Taylor segundo orden"
   ]
  },
  {
   "cell_type": "code",
   "execution_count": 9,
   "metadata": {
    "collapsed": false
   },
   "outputs": [
    {
     "data": {
      "image/png": "[encoded data removed]",
      "text/plain": [
       "<matplotlib.figure.Figure at 0x757cc18>"
      ]
     },
     "metadata": {},
     "output_type": "display_data"
    }
   ],
   "source": [
    "t,sol = T2(ec1,d_ec1,[0,1],[0,50])\n",
    "plot(t,sol[:,0])\n",
    "show()"
   ]
  },
  {
   "cell_type": "markdown",
   "metadata": {},
   "source": [
    "Rungen Kutta segundo orden"
   ]
  },
  {
   "cell_type": "code",
   "execution_count": 10,
   "metadata": {
    "collapsed": false
   },
   "outputs": [
    {
     "data": {
      "image/png": "[encoded data removed]",
      "text/plain": [
       "<matplotlib.figure.Figure at 0x748d7f0>"
      ]
     },
     "metadata": {},
     "output_type": "display_data"
    }
   ],
   "source": [
    "t,sol = rk2(ec1,[0,1],[0,50])\n",
    "plot(t,sol[:,0])\n",
    "show()"
   ]
  },
  {
   "cell_type": "markdown",
   "metadata": {},
   "source": [
    "Rungen Kutta cuarto orden"
   ]
  },
  {
   "cell_type": "code",
   "execution_count": 11,
   "metadata": {
    "collapsed": false
   },
   "outputs": [
    {
     "data": {
      "image/png": "[encoded data removed]",
      "text/plain": [
       "<matplotlib.figure.Figure at 0x7fe7048>"
      ]
     },
     "metadata": {},
     "output_type": "display_data"
    }
   ],
   "source": [
    "t,sol = rk4(ec1,[0,1],[0,50])\n",
    "plot(t,sol[:,0])\n",
    "show()"
   ]
  },
  {
   "cell_type": "markdown",
   "metadata": {},
   "source": [
    "# 2.-\n",
    "\n",
    "Sea \n",
    "\n",
    "$$\n",
    "y''' + y''^2 - 3 y'^3 + cos^2( y) = exp(-t)sin(3t)\n",
    "$$\n",
    "\n",
    "Entonces llegamos al sistema de ecuaciones\n",
    "\n",
    "$$\n",
    " y' = v\n",
    "$$\n",
    "$$\n",
    " v' = u\n",
    "$$\n",
    "$$\n",
    " u' =  y''' = - y´´^2 + 3 y'^3 - cos^2( y) + exp(-t)sin(3t)\n",
    "$$"
   ]
  },
  {
   "cell_type": "code",
   "execution_count": 2,
   "metadata": {
    "collapsed": false
   },
   "outputs": [],
   "source": [
    "def ec2(x,t):\n",
    "    dx = x[1]\n",
    "    dv = x[2]\n",
    "    du = -x[2]**2 + 3*(x[1]**3) - (cos(x[0]))**2 + exp(-t)*sin(3*t)\n",
    "    return array([dx,dv,du])\n",
    "\n",
    "def d_ec2(x,t):\n",
    "    return array([0,0,exp(-t)*cos(3*t)-t*exp(-t)*sin(3*t)]),array([[0,1,0],[0,0,1],[2*cos(x[0])*sin(x[0]),9*(x[1]**2),-2*x[2]]])"
   ]
  },
  {
   "cell_type": "markdown",
   "metadata": {},
   "source": [
    "Y la solución con cada uno de los métodos es:\n",
    "\n",
    "Euler\n",
    "Vemos que para el intervalo entre 1 y 2 se puede hacer con un paso de integración tan chico como 0.02. Cuando se hace con 0.01 diverge a menos infinito."
   ]
  },
  {
   "cell_type": "code",
   "execution_count": 13,
   "metadata": {
    "collapsed": false
   },
   "outputs": [
    {
     "data": {
      "image/png": "[encoded data removed]",
      "text/plain": [
       "<matplotlib.figure.Figure at 0x81d1198>"
      ]
     },
     "metadata": {},
     "output_type": "display_data"
    }
   ],
   "source": [
    "t,sol = euler(ec2,[1,2,1],[1,2],0.02)\n",
    "plot(t,sol[:,0])\n",
    "show()"
   ]
  },
  {
   "cell_type": "markdown",
   "metadata": {},
   "source": [
    "Para el intervalo de 1 a 2.1 el paso mínimo es de 0.05. Después diverge de nuevo a menos infinto. "
   ]
  },
  {
   "cell_type": "code",
   "execution_count": 14,
   "metadata": {
    "collapsed": false
   },
   "outputs": [
    {
     "data": {
      "image/png": "[encoded data removed]",
      "text/plain": [
       "<matplotlib.figure.Figure at 0x83b90f0>"
      ]
     },
     "metadata": {},
     "output_type": "display_data"
    }
   ],
   "source": [
    "t,sol = euler(ec2,[1,2,1],[1,2.1],0.05)\n",
    "plot(t,sol[:,0])\n",
    "show()"
   ]
  },
  {
   "cell_type": "markdown",
   "metadata": {},
   "source": [
    "Taylor 2\n",
    "\n",
    "De 1 a 2 el paso mínimo es de 0.29 antes de que diverga a menos infinito, aunque igual parece diverger a infinito con este paso y menores."
   ]
  },
  {
   "cell_type": "code",
   "execution_count": 15,
   "metadata": {
    "collapsed": false
   },
   "outputs": [
    {
     "data": {
      "image/png": "[encoded data removed]",
      "text/plain": [
       "<matplotlib.figure.Figure at 0x8539400>"
      ]
     },
     "metadata": {},
     "output_type": "display_data"
    }
   ],
   "source": [
    "t,sol = T2(ec2,d_ec2,[1,2,1],[1,2],0.29)\n",
    "plot(t,sol[:,0])\n",
    "show()"
   ]
  },
  {
   "cell_type": "markdown",
   "metadata": {},
   "source": [
    "Para el intervalo entre 1 y 2.1 se obtiene exactamente el mismo valor antes de que diverga a menos infinito. "
   ]
  },
  {
   "cell_type": "code",
   "execution_count": 16,
   "metadata": {
    "collapsed": false
   },
   "outputs": [
    {
     "data": {
      "image/png": "[encoded data removed]",
      "text/plain": [
       "<matplotlib.figure.Figure at 0x8763320>"
      ]
     },
     "metadata": {},
     "output_type": "display_data"
    }
   ],
   "source": [
    "t,sol = T2(ec2,d_ec2,[1,2,1],[1,2.1],0.29)\n",
    "plot(t,sol[:,0])\n",
    "show()"
   ]
  },
  {
   "cell_type": "markdown",
   "metadata": {},
   "source": [
    "Rungen Kutta 2\n",
    "\n",
    "Aquí desde el paso 0.3 empieza a diverger hacia menos infinito. Aunque vemos que para los primeros tres pasos se parece a la solución que da Euler. Para el segundo intervalo será lo mismo, ya que el paso es más grande que el cambio en el intervalo."
   ]
  },
  {
   "cell_type": "code",
   "execution_count": 17,
   "metadata": {
    "collapsed": false
   },
   "outputs": [
    {
     "data": {
      "image/png": "[encoded data removed]",
      "text/plain": [
       "<matplotlib.figure.Figure at 0x892f3c8>"
      ]
     },
     "metadata": {},
     "output_type": "display_data"
    }
   ],
   "source": [
    "t,sol = rk2(ec2,[1,2,1],[1,2],0.3)\n",
    "plot(t,sol[:,0])\n",
    "show()"
   ]
  },
  {
   "cell_type": "markdown",
   "metadata": {},
   "source": [
    "Runge Kutta 4\n",
    "\n",
    "Para este desde pasos de 1 empieza a bajar. El mejor paso no está claro. "
   ]
  },
  {
   "cell_type": "code",
   "execution_count": 18,
   "metadata": {
    "collapsed": false
   },
   "outputs": [
    {
     "data": {
      "text/plain": [
       "[<matplotlib.lines.Line2D at 0x85397f0>]"
      ]
     },
     "execution_count": 18,
     "metadata": {},
     "output_type": "execute_result"
    },
    {
     "data": {
      "image/png": "[encoded data removed]",
      "text/plain": [
       "<matplotlib.figure.Figure at 0x896bd68>"
      ]
     },
     "metadata": {},
     "output_type": "display_data"
    }
   ],
   "source": [
    "t,sol = rk4(ec2,[1,2,1],[1,2],1)\n",
    "plot(t,sol[:,0])"
   ]
  },
  {
   "cell_type": "markdown",
   "metadata": {},
   "source": [
    "Lo que está pasando es que cerca de 2 la solución diverge. Graficar hasta 2.1 puede funcionar para algunos métodos porque el paso de integración se salta la singularidad, pero en realidad esto ya no representa nada. Después del punto en el cual diverge ya no podemos saber nada. \n",
    "\n",
    "Ahora programaremos los integradores para parar cuando la solución empiece a diverger. \n",
    "\n",
    "Vemos primero que Euler logra llegar hasta 1.973 hasta empezar a diverger con $h = 10*10^-7$"
   ]
  },
  {
   "cell_type": "code",
   "execution_count": 6,
   "metadata": {
    "collapsed": false
   },
   "outputs": [],
   "source": [
    "def euler_d(func,p_ini,t,h=0.01):\n",
    "    tiempos = arange(t[0],t[1]+h,h)\n",
    "    sol = zeros((len(tiempos),len(p_ini)))\n",
    "    sol[0,:] = p_ini \n",
    "    for i in xrange(len(tiempos)-1):\n",
    "        sol[i+1,:] = sol[i,:] + func(sol[i,:],tiempos[i])*h\n",
    "        if abs(sol[i+1,0]) > 200:\n",
    "            print sol[i,:]\n",
    "            print sol[i+1,:]\n",
    "            print tiempos[i]\n",
    "            break\n",
    "    return tiempos,sol"
   ]
  },
  {
   "cell_type": "code",
   "execution_count": 37,
   "metadata": {
    "collapsed": false
   },
   "outputs": [
    {
     "name": "stdout",
     "output_type": "stream",
     "text": [
      "[  5.24502858e+01  -9.16441551e+08  -8.39812879e+22]\n",
      "[ -9.11196522e+03  -8.39812880e+17  -7.05285672e+40]\n",
      "1.95483000001\n"
     ]
    },
    {
     "data": {
      "text/plain": [
       "[<matplotlib.lines.Line2D at 0x17f4fa58>]"
      ]
     },
     "execution_count": 37,
     "metadata": {},
     "output_type": "execute_result"
    },
    {
     "data": {
      "image/png": "[encoded data removed]",
      "text/plain": [
       "<matplotlib.figure.Figure at 0x396953c8>"
      ]
     },
     "metadata": {},
     "output_type": "display_data"
    }
   ],
   "source": [
    "t,sol = euler_d(ec2,[1,2,1],[1,2],1e-5)\n",
    "plot(t,sol[:,0])"
   ]
  },
  {
   "cell_type": "code",
   "execution_count": 11,
   "metadata": {
    "collapsed": false
   },
   "outputs": [
    {
     "name": "stdout",
     "output_type": "stream",
     "text": [
      "[  1.99998058e+02   2.99661170e+04   8.98453208e+06]\n",
      "[  2.00001055e+02   2.99670154e+04   8.98493616e+06]\n",
      "1.97337220057\n"
     ]
    },
    {
     "data": {
      "text/plain": [
       "[<matplotlib.lines.Line2D at 0x7efab38>]"
      ]
     },
     "execution_count": 11,
     "metadata": {},
     "output_type": "execute_result"
    },
    {
     "data": {
      "image/png": "[encoded data removed]",
      "text/plain": [
       "<matplotlib.figure.Figure at 0x7c1d2b0>"
      ]
     },
     "metadata": {},
     "output_type": "display_data"
    }
   ],
   "source": [
    "t,sol = euler_d(ec2,[1,2,1],[1,2],1e-7)\n",
    "plot(t,sol[:,0])"
   ]
  },
  {
   "cell_type": "code",
   "execution_count": 12,
   "metadata": {
    "collapsed": false
   },
   "outputs": [],
   "source": [
    "def T2_d(ec,d_f,p_ini,t,h=0.1):\n",
    "    tiemp = arange(t[0],t[1]+h,h)\n",
    "    sol = zeros((len(tiemp),len(p_ini)))\n",
    "    sol[0,:] = p_ini \n",
    "    for i in xrange(len(tiemp)-1):\n",
    "        f = ec(sol[i,:],tiemp[i])\n",
    "        dv,jac = d_f(sol[i,:],tiemp[i])\n",
    "        sol[i+1,:] = sol[i,:] + f*h + 0.5*h*h*( dot(f,jac) + dv)\n",
    "        if abs(sol[i+1,0]) > 200:\n",
    "            print sol[i,:]\n",
    "            print sol[i+1,:]\n",
    "            print tiemp[i]\n",
    "            break\n",
    "    return tiemp,sol"
   ]
  },
  {
   "cell_type": "code",
   "execution_count": 42,
   "metadata": {
    "collapsed": false
   },
   "outputs": [
    {
     "name": "stdout",
     "output_type": "stream",
     "text": [
      "[  1.09969916e+01   1.38899044e+06   6.20457440e+04]\n",
      "[ -2.83679536e+03   1.74489804e+19   3.89495602e+12]\n",
      "1.85215050012\n"
     ]
    },
    {
     "data": {
      "image/png": "[encoded data removed]",
      "text/plain": [
       "<matplotlib.figure.Figure at 0x1898b2b0>"
      ]
     },
     "metadata": {},
     "output_type": "display_data"
    }
   ],
   "source": [
    "t,sol = T2_d(ec2,d_ec2,[1,2,1],[1,2],0.5e-6)\n",
    "plot(t,sol[:,0])\n",
    "show()"
   ]
  },
  {
   "cell_type": "code",
   "execution_count": 16,
   "metadata": {
    "collapsed": true
   },
   "outputs": [],
   "source": [
    "def rk2_d(ec,p_ini,t,h=0.1):\n",
    "    tiemp = arange(t[0],t[1]+h,h)\n",
    "    sol = zeros((len(tiemp),len(p_ini)))\n",
    "    sol[0,:] = p_ini\n",
    "    for i in xrange(len(tiemp)-1):\n",
    "        k = h*ec(sol[i,:],tiemp[i])\n",
    "        sol[i+1,:] = sol[i,:] + h*ec(sol[i,:]+0.5*k,tiemp[i]+0.5*h)\n",
    "        if abs(sol[i+1,0]) > 200:\n",
    "            print sol[i,:]\n",
    "            print sol[i+1,:]\n",
    "            print tiemp[i]\n",
    "            break\n",
    "    return tiemp,sol"
   ]
  },
  {
   "cell_type": "code",
   "execution_count": 41,
   "metadata": {
    "collapsed": false
   },
   "outputs": [
    {
     "name": "stdout",
     "output_type": "stream",
     "text": [
      "[  4.38147915e+01  -1.32258174e+11  -1.74922247e+27]\n",
      "[ -8.74611236e+16  -1.52988963e+44  -2.34056227e+93]\n",
      "1.95124000001\n"
     ]
    },
    {
     "data": {
      "image/png": "[encoded data removed]",
      "text/plain": [
       "<matplotlib.figure.Figure at 0x839d6d8>"
      ]
     },
     "metadata": {},
     "output_type": "display_data"
    }
   ],
   "source": [
    "t,sol = rk2_d(ec2,[1,2,1],[1,2],1e-5)\n",
    "plot(t,sol[:,0])\n",
    "show()"
   ]
  },
  {
   "cell_type": "code",
   "execution_count": 20,
   "metadata": {
    "collapsed": false
   },
   "outputs": [
    {
     "name": "stdout",
     "output_type": "stream",
     "text": [
      "[  1.49038703e+02  -2.88622983e+06  -1.68520730e+19]\n",
      "[ -2.10636153e+06  -3.54990454e+25  -2.52036446e+57]\n",
      "1.97109150014\n"
     ]
    },
    {
     "data": {
      "image/png": "[encoded data removed]",
      "text/plain": [
       "<matplotlib.figure.Figure at 0x84d32e8>"
      ]
     },
     "metadata": {},
     "output_type": "display_data"
    }
   ],
   "source": [
    "t,sol = rk2_d(ec2,[1,2,1],[1,2],0.5e-6)\n",
    "plot(t,sol[:,0])\n",
    "show()"
   ]
  },
  {
   "cell_type": "code",
   "execution_count": 21,
   "metadata": {
    "collapsed": true
   },
   "outputs": [],
   "source": [
    "def rk4_d(ec,p_ini,x,h=0.1):\n",
    "    tiempos = arange(x[0],x[1]+h,h)\n",
    "    sol = zeros((len(tiempos),len(p_ini)))\n",
    "    sol[0,:] = p_ini\n",
    "    for i in xrange(len(tiempos)-1):\n",
    "        k1 = ec(sol[i,:],tiempos[i])\n",
    "        k2 = ec(sol[i,:]+0.5*h*k1,tiempos[i]+0.5*h)\n",
    "        k3 = ec(sol[i,:]+0.5*h*k2,tiempos[i]+0.5*h)\n",
    "        k4 = ec(sol[i,:]+h*k3,tiempos[i]+h)\n",
    "        sol[i+1,:] = sol[i,:] + (h/6.)*(k1+2*k2+2*k3+k4)\n",
    "        if abs(sol[i+1,0]) > 200:\n",
    "            print sol[i,:]\n",
    "            print sol[i+1,:]\n",
    "            print tiempos[i]\n",
    "            break\n",
    "    return tiempos,sol"
   ]
  },
  {
   "cell_type": "code",
   "execution_count": 22,
   "metadata": {
    "collapsed": false
   },
   "outputs": [
    {
     "name": "stdout",
     "output_type": "stream",
     "text": [
      "[  1.25778027e+02   1.12297278e+04  -7.65542713e+08]\n",
      "[ -7.06703443e+03  -3.10416038e+20  -5.78148700e+47]\n",
      "1.96945299992\n"
     ]
    },
    {
     "data": {
      "text/plain": [
       "[<matplotlib.lines.Line2D at 0x80eec18>]"
      ]
     },
     "execution_count": 22,
     "metadata": {},
     "output_type": "execute_result"
    },
    {
     "data": {
      "image/png": "[encoded data removed]",
      "text/plain": [
       "<matplotlib.figure.Figure at 0x7fe0f28>"
      ]
     },
     "metadata": {},
     "output_type": "display_data"
    }
   ],
   "source": [
    "t,sol = rk4_d(ec2,[1,2,1],[1,2],1e-6)\n",
    "plot(t,sol[:,0])"
   ]
  },
  {
   "cell_type": "code",
   "execution_count": 33,
   "metadata": {
    "collapsed": false
   },
   "outputs": [
    {
     "name": "stdout",
     "output_type": "stream",
     "text": [
      "[  5.85889188e+01  -2.21465193e+05  -2.99683883e+16]\n",
      "[ -1.68039859e+039  -1.69424366e+089  -1.72227694e+184]\n",
      "1.95729000001\n"
     ]
    },
    {
     "data": {
      "text/plain": [
       "[<matplotlib.lines.Line2D at 0x38c4d358>]"
      ]
     },
     "execution_count": 33,
     "metadata": {},
     "output_type": "execute_result"
    },
    {
     "data": {
      "image/png": "[encoded data removed]",
      "text/plain": [
       "<matplotlib.figure.Figure at 0x7ccc5f8>"
      ]
     },
     "metadata": {},
     "output_type": "display_data"
    }
   ],
   "source": [
    "t,sol = rk4_d(ec2,[1,2,1],[1,2],1e-5)\n",
    "plot(t,sol[:,0])"
   ]
  },
  {
   "cell_type": "code",
   "execution_count": 35,
   "metadata": {
    "collapsed": false
   },
   "outputs": [
    {
     "name": "stdout",
     "output_type": "stream",
     "text": [
      "[  4.63171168e+01  -6.11918664e+05  -1.12652875e+17]\n",
      "[ -1.07368741e+043  -1.72920697e+096  -8.97047028e+197]\n",
      "1.95124\n"
     ]
    },
    {
     "data": {
      "text/plain": [
       "[<matplotlib.lines.Line2D at 0x393cb9e8>]"
      ]
     },
     "execution_count": 35,
     "metadata": {},
     "output_type": "execute_result"
    },
    {
     "data": {
      "image/png": "[encoded data removed]",
      "text/plain": [
       "<matplotlib.figure.Figure at 0x374ce80>"
      ]
     },
     "metadata": {},
     "output_type": "display_data"
    }
   ],
   "source": [
    "t,sol = rk4_d(ec2,[1,2,1],[1,2],0.2e-4)\n",
    "plot(t,sol[:,0])"
   ]
  },
  {
   "cell_type": "markdown",
   "metadata": {},
   "source": [
    "Vemos que después de 1.95 ya no cambia mucho la solución dependiendo de h, entonces para no variar en Euler y en RK2 la h mínima es alrededor de 10^-5, para RK4 es alrededor de 0.2*10^-4 y para Taylor 2 es algo menor a 0.5*10^-6. "
   ]
  },
  {
   "cell_type": "markdown",
   "metadata": {},
   "source": [
    "# 3.-\n",
    "\n",
    "Se pueden adaptar los métodos anteriores para que pasen argumentos de la siguiente manera."
   ]
  },
  {
   "cell_type": "code",
   "execution_count": null,
   "metadata": {
    "collapsed": true
   },
   "outputs": [],
   "source": [
    "def euler_a(func,p_ini,t,arg=0,h=0.1):\n",
    "    tiempos = arange(t[0],t[1]+h,h)\n",
    "    sol = zeros((len(tiempos),len(p_ini)))\n",
    "    sol[0,:] = p_ini\n",
    "    if arg==0:\n",
    "        for i in xrange(len(tiempos)-1):\n",
    "            sol[i+1,:] = sol[i,:] + func(sol[i,:],tiempos[i])*h\n",
    "    else:\n",
    "        for i in xrange(len(tiempos)-1):\n",
    "            sol[i+1,:] = sol[i,:] + func(sol[i,:],tiempos[i],arg)*h\n",
    "    return tiempos,sol"
   ]
  },
  {
   "cell_type": "code",
   "execution_count": null,
   "metadata": {
    "collapsed": true
   },
   "outputs": [],
   "source": [
    "def T2_a(ec,d_f,p_ini,t,arg=0,h=0.1):\n",
    "    tiemp = arange(t[0],t[1]+h,h)\n",
    "    sol = zeros((len(tiemp),len(p_ini)))\n",
    "    sol[0,:] = p_ini \n",
    "    if arg==0:\n",
    "        for i in xrange(len(tiemp)-1):\n",
    "            f = ec(sol[i,:],tiemp[i])\n",
    "            dv,jac = d_f(sol[i,:],tiemp[i])\n",
    "            sol[i+1,:] = sol[i,:] + f*h + 0.5*h*h*(dot(f,jac) + dv)\n",
    "    else:\n",
    "        for i in xrange(len(tiemp)-1):\n",
    "            f = ec(sol[i,:],tiemp[i],arg)\n",
    "            dv,jac = d_f(sol[i,:],tiemp[i],arg)\n",
    "            sol[i+1,:] = sol[i,:] + f*h + 0.5*h*h*(dot(f,jac) + dv)\n",
    "    return tiemp,sol"
   ]
  },
  {
   "cell_type": "code",
   "execution_count": null,
   "metadata": {
    "collapsed": true
   },
   "outputs": [],
   "source": [
    "def rk2_a(ec,p_ini,t,arg=0,h=0.1):\n",
    "    tiemp = arange(t[0],t[1]+h,h)\n",
    "    sol = zeros((len(tiemp),len(p_ini)))\n",
    "    sol[0,:] = p_ini\n",
    "    if arg==0:\n",
    "        for i in xrange(len(tiemp)-1):\n",
    "            k = h*ec(sol[i,:],tiemp[i])\n",
    "            sol[i+1,:] = sol[i,:] + h*ec(sol[i,:]+0.5*k,tiemp[i]+0.5*h)\n",
    "    else:\n",
    "        for i in xrange(len(tiemp)-1):\n",
    "            k = h*ec(sol[i,:],tiemp[i],arg)\n",
    "            sol[i+1,:] = sol[i,:] + h*ec(sol[i,:]+0.5*k,tiemp[i]+0.5*h,arg)\n",
    "    return tiemp,sol"
   ]
  },
  {
   "cell_type": "code",
   "execution_count": null,
   "metadata": {
    "collapsed": true
   },
   "outputs": [],
   "source": [
    "def rk4_a(ec,p_ini,x,args=0,h=0.01):\n",
    "    tiempos = arange(x[0],x[1]+h,h)\n",
    "    sol = zeros((len(tiempos),len(p_ini)))\n",
    "    sol[0,:] = p_ini\n",
    "    if args==0:\n",
    "        for i in xrange(len(tiempos)-1):\n",
    "            k1 = ec(sol[i,:],tiempos[i])\n",
    "            k2 = ec(sol[i,:]+0.5*h*k1,tiempos[i]+0.5*h)\n",
    "            k3 = ec(sol[i,:]+0.5*h*k2,tiempos[i]+0.5*h)\n",
    "            k4 = ec(sol[i,:]+h*k3,tiempos[i]+h)\n",
    "            sol[i+1,:] = sol[i,:] + (h/6.)*(k1+2*k2+2*k3+k4)\n",
    "    else:\n",
    "        for i in xrange(len(tiempos)-1):\n",
    "            k1 = ec(sol[i,:],tiempos[i],args)\n",
    "            k2 = ec(sol[i,:]+0.5*h*k1,tiempos[i]+0.5*h,args)\n",
    "            k3 = ec(sol[i,:]+0.5*h*k2,tiempos[i]+0.5*h,args)\n",
    "            k4 = ec(sol[i,:]+h*k3,tiempos[i]+h,args)\n",
    "            sol[i+1,:] = sol[i,:] + (h/6.)*(k1+2*k2+2*k3+k4)\n",
    "\n",
    "    return tiempos,sol"
   ]
  },
  {
   "cell_type": "markdown",
   "metadata": {},
   "source": [
    "Y la ecuación a resolver es\n",
    "\n",
    "$$\n",
    "\\vec x'' + 0.1\\vec x' + 4sin(\\vec x) = (1/2)sin(wt)\n",
    "$$"
   ]
  },
  {
   "cell_type": "code",
   "execution_count": null,
   "metadata": {
    "collapsed": true
   },
   "outputs": [],
   "source": [
    "def ec_3(x,t,w=1):\n",
    "    dx = x[1]\n",
    "    du = -0.1*x[1] - 4*sin(x[0]) + 0.5*sin(w*t)\n",
    "    return array([dx,du])\n",
    "\n",
    "def d_ec_3(x,t,w=1):\n",
    "    return array([0,0.5*w*sin(w*t)]),array([[0,1],[-4*cos(x[0]),0.1]])"
   ]
  },
  {
   "cell_type": "markdown",
   "metadata": {},
   "source": [
    "Y ahora graficaremos las soluciones con:\n",
    "\n",
    "Euler"
   ]
  },
  {
   "cell_type": "code",
   "execution_count": null,
   "metadata": {
    "collapsed": false
   },
   "outputs": [],
   "source": [
    "w=arange(1,3.1,0.1)\n",
    "for i in w:\n",
    "    t,sol = euler_a(ec_3,[0,1],[0,10],i)\n",
    "    plot(t,sol[:,0])"
   ]
  },
  {
   "cell_type": "markdown",
   "metadata": {},
   "source": [
    "Taylor segundo orden"
   ]
  },
  {
   "cell_type": "code",
   "execution_count": null,
   "metadata": {
    "collapsed": false
   },
   "outputs": [],
   "source": [
    "w=arange(1,3.1,0.1)\n",
    "for i in w:\n",
    "    t,sol = T2_a(ec_3,d_ec_3,[0,1],[0,10],i,)\n",
    "    plot(t,sol[:,0])"
   ]
  },
  {
   "cell_type": "markdown",
   "metadata": {},
   "source": [
    "Vemos que esta solución no se parece a la anterior. Sin embargo, si se hace más pequeño el paso de integración obtenemos una similar."
   ]
  },
  {
   "cell_type": "code",
   "execution_count": null,
   "metadata": {
    "collapsed": false
   },
   "outputs": [],
   "source": [
    "w=arange(1,3.1,0.1)\n",
    "for i in w:\n",
    "    t,sol = T2_a(ec_3,d_ec_3,[0,1],[0,10],i,0.01)\n",
    "    plot(t,sol[:,0])"
   ]
  },
  {
   "cell_type": "markdown",
   "metadata": {},
   "source": [
    "Runge Kutta segundo orden"
   ]
  },
  {
   "cell_type": "code",
   "execution_count": null,
   "metadata": {
    "collapsed": false
   },
   "outputs": [],
   "source": [
    "w=arange(1,3.1,0.1)\n",
    "for i in w:\n",
    "    t,sol = rk2_a(ec_3,[0,1],[0,10],i)\n",
    "    plot(t,sol[:,0])"
   ]
  },
  {
   "cell_type": "markdown",
   "metadata": {},
   "source": [
    "Runge Kutta cuarto orden"
   ]
  },
  {
   "cell_type": "code",
   "execution_count": null,
   "metadata": {
    "collapsed": false
   },
   "outputs": [],
   "source": [
    "w=arange(1,3.1,0.1)\n",
    "for i in w:\n",
    "    t,sol = rk4_a(ec_3,[0,1],[0,10],i)\n",
    "    plot(t,sol[:,0])"
   ]
  },
  {
   "cell_type": "markdown",
   "metadata": {},
   "source": [
    "Si graficamos hasta $t_f = 150$ vemos que las soluciones llegan a un punto estable que tiene que ver con cómo son forzadas. Vemos que para w=1 (azul) la estabilidad es para menor amplitud, para w=1.5 (verde) crece un poco y para w=2 es muy grande. "
   ]
  },
  {
   "cell_type": "code",
   "execution_count": null,
   "metadata": {
    "collapsed": false
   },
   "outputs": [],
   "source": [
    "w=arange(1,2.5,0.5)\n",
    "for i in w:\n",
    "    t,sol = rk4_a(ec_3,[0,1],[0,150],i)\n",
    "    plot(t,sol[:,0])\n",
    "    ylim(-2,2)"
   ]
  },
  {
   "cell_type": "markdown",
   "metadata": {},
   "source": [
    "Si seguimos graficando hasta w=2.5 y w=3 vuleve a bajar. "
   ]
  },
  {
   "cell_type": "code",
   "execution_count": null,
   "metadata": {
    "collapsed": false
   },
   "outputs": [],
   "source": [
    "w=arange(2.5,3.5,0.5)\n",
    "for i in w:\n",
    "    t,sol = rk4_a(ec_3,[0,1],[0,150],i)\n",
    "    plot(t,sol[:,0])\n",
    "    ylim(-2,2)"
   ]
  },
  {
   "cell_type": "markdown",
   "metadata": {
    "collapsed": true
   },
   "source": [
    "Si graficamos para w=1.6, 1.7, 1.8 y 1.9 vemos que el máximo está en 1.8 y luego vuleve a bajar. Por lo tanto alrededor de W=1.8 es la resonacia con mayor amplitud."
   ]
  },
  {
   "cell_type": "code",
   "execution_count": null,
   "metadata": {
    "collapsed": false
   },
   "outputs": [],
   "source": [
    "w=arange(1.6,2,0.1)\n",
    "for i in w:\n",
    "    t,sol = rk4_a(ec_3,[0,1],[0,150],i)\n",
    "    plot(t,sol[:,0])\n",
    "    ylim(-2,2)"
   ]
  },
  {
   "cell_type": "markdown",
   "metadata": {
    "collapsed": true
   },
   "source": [
    "# 4.- \n",
    "\n",
    "Dado el sistema de ecuaciones\n",
    "\n",
    "$$\n",
    "x' = 10(y-x)\n",
    "$$\n",
    "$$\n",
    "y' = x(28-z)-y\n",
    "$$\n",
    "$$\n",
    "z' = xy - \\frac {8}{3}z\n",
    "$$\n",
    "\n",
    "se puede programar de la siguiente manera"
   ]
  },
  {
   "cell_type": "code",
   "execution_count": null,
   "metadata": {
    "collapsed": true
   },
   "outputs": [],
   "source": [
    "def ec_4(x,t):\n",
    "    dx = 10*(x[1]-x[0])\n",
    "    dy = x[0]*(28-x[2])-x[1]\n",
    "    dz = x[0]*x[1] - (8/3)*x[2]\n",
    "    return array([dx,dy,dz])"
   ]
  },
  {
   "cell_type": "markdown",
   "metadata": {},
   "source": [
    "Usaremos el método de Euler\n",
    "\n",
    "Suponiendo la condición inicial x=0, y=1, z=1 obtenemos las siguientes gráficas.\n",
    "\n",
    "Plano xy"
   ]
  },
  {
   "cell_type": "code",
   "execution_count": null,
   "metadata": {
    "collapsed": false
   },
   "outputs": [],
   "source": [
    "t,sol = euler(ec_4,[0,1,1],[0,100],0.01)\n",
    "plot(sol[:,0],sol[:,1])"
   ]
  },
  {
   "cell_type": "markdown",
   "metadata": {},
   "source": [
    "Plano xz"
   ]
  },
  {
   "cell_type": "code",
   "execution_count": null,
   "metadata": {
    "collapsed": false
   },
   "outputs": [],
   "source": [
    "t,sol = euler(ec_4,[0,1,1],[0,100],0.01)\n",
    "plot(sol[:,0],sol[:,2])"
   ]
  },
  {
   "cell_type": "markdown",
   "metadata": {},
   "source": [
    "Plano yz"
   ]
  },
  {
   "cell_type": "code",
   "execution_count": null,
   "metadata": {
    "collapsed": false
   },
   "outputs": [],
   "source": [
    "t,sol = euler(ec_4,[0,1,1],[0,100],0.01)\n",
    "plot(sol[:,1],sol[:,2])"
   ]
  },
  {
   "cell_type": "markdown",
   "metadata": {},
   "source": [
    "Haremos lo mismo para las condiciones iniciales x=1, z=0, y=2, 2.01, 2.02 y con $t_f=50$\n",
    "\n",
    "Plano xy"
   ]
  },
  {
   "cell_type": "code",
   "execution_count": null,
   "metadata": {
    "collapsed": false
   },
   "outputs": [],
   "source": [
    "for i in array([2,2.01,2.02]):\n",
    "    t,sol = euler(ec_4,[1,i,0],[0,20],0.01)\n",
    "    plot(sol[:,0],sol[:,1])"
   ]
  },
  {
   "cell_type": "markdown",
   "metadata": {},
   "source": [
    "Plano xz"
   ]
  },
  {
   "cell_type": "code",
   "execution_count": null,
   "metadata": {
    "collapsed": false
   },
   "outputs": [],
   "source": [
    "for i in array([2,2.01,2.02]):\n",
    "    t,sol = euler(ec_4,[1,i,0],[0,20],0.01)\n",
    "    plot(sol[:,0],sol[:,2])"
   ]
  },
  {
   "cell_type": "markdown",
   "metadata": {},
   "source": [
    "Plano yz"
   ]
  },
  {
   "cell_type": "code",
   "execution_count": null,
   "metadata": {
    "collapsed": false
   },
   "outputs": [],
   "source": [
    "for i in array([2,2.01,2.02]):\n",
    "    t,sol = euler(ec_4,[1,i,0],[0,20],0.01)\n",
    "    plot(sol[:,1],sol[:,2])"
   ]
  },
  {
   "cell_type": "markdown",
   "metadata": {},
   "source": [
    "Podemos ver de arriba que al final las soluciones son diferentes. En estas la y más chica es la verde y vemos del plano yz que es la que sale hasta la izquierda. Sin embargo vemos abajo que hasta el tiempo 7 empiezan a cambiar. Antes son muy similares."
   ]
  },
  {
   "cell_type": "code",
   "execution_count": null,
   "metadata": {
    "collapsed": false
   },
   "outputs": [],
   "source": [
    "for i in array([2,2.01,2.02]):\n",
    "    t,sol = euler(ec_4,[1,i,0],[0,7],0.01)\n",
    "    plot(sol[:,1],sol[:,2])"
   ]
  },
  {
   "cell_type": "code",
   "execution_count": null,
   "metadata": {
    "collapsed": false
   },
   "outputs": [],
   "source": [
    "for i in array([2,2.01,2.02]):\n",
    "    t,sol = euler(ec_4,[1,i,0],[0,7.5],0.01)\n",
    "    plot(sol[:,1],sol[:,2])"
   ]
  },
  {
   "cell_type": "markdown",
   "metadata": {
    "collapsed": true
   },
   "source": [
    "Vemos que las soluciones a tiempos muy grandes no divergen, pero aún así divergen entre si. Suponemos que se separan no por error numérico si no porque el sistema es caótico. "
   ]
  },
  {
   "cell_type": "code",
   "execution_count": null,
   "metadata": {
    "collapsed": true
   },
   "outputs": [],
   "source": []
  }
 ],
 "metadata": {
  "anaconda-cloud": {},
  "kernelspec": {
   "display_name": "Python [Root]",
   "language": "python",
   "name": "Python [Root]"
  },
  "language_info": {
   "codemirror_mode": {
    "name": "ipython",
    "version": 2
   },
   "file_extension": ".py",
   "mimetype": "text/x-python",
   "name": "python",
   "nbconvert_exporter": "python",
   "pygments_lexer": "ipython2",
   "version": "2.7.12"
  }
 },
 "nbformat": 4,
 "nbformat_minor": 0
}
