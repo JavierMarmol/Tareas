{
 "cells": [
  {
   "cell_type": "code",
   "execution_count": 3,
   "metadata": {
    "collapsed": false
   },
   "outputs": [],
   "source": [
    "from pylab import *\n",
    "%matplotlib inline\n",
    "import random"
   ]
  },
  {
   "cell_type": "markdown",
   "metadata": {},
   "source": [
    "# 1"
   ]
  },
  {
   "cell_type": "code",
   "execution_count": 4,
   "metadata": {
    "collapsed": false
   },
   "outputs": [],
   "source": [
    "def rand(n,t):\n",
    "    rand = zeros(n+1)\n",
    "    for i in arange(n):\n",
    "        rand[i] = array([random.uniform(t[0],t[1])])\n",
    "    rand = sorted(rand)\n",
    "    rand[0]=t[0]\n",
    "    rand[n]=t[1]\n",
    "    return rand"
   ]
  },
  {
   "cell_type": "code",
   "execution_count": 5,
   "metadata": {
    "collapsed": true
   },
   "outputs": [],
   "source": [
    "def raiz_bip(func,x_i,x_d,err=1e-5):\n",
    "    raiz = 0.5*(x_i+x_d)\n",
    "    y_i,y_d = func(x_i),func(x_d)\n",
    "    while abs(raiz - x_d) >= err and abs(y_i - y_d) >= err:\n",
    "        y_m = func(raiz)\n",
    "        if y_m == 0.:\n",
    "            print \"chin, le atine :D\"\n",
    "            break\n",
    "        if y_m*y_i<0:\n",
    "            x_d = raiz\n",
    "        else:\n",
    "            x_i = raiz\n",
    "        raiz = 0.5*(x_i+x_d)\n",
    "        y_i,y_d = func(x_i),func(x_d)\n",
    "\n",
    "    return raiz"
   ]
  },
  {
   "cell_type": "code",
   "execution_count": 6,
   "metadata": {
    "collapsed": false
   },
   "outputs": [],
   "source": [
    "def bip_a(ec,t,p,err=1e-5):\n",
    "    #partición aleatoria del dominio\n",
    "    parti = rand(p,t)\n",
    "    for i in (arange(p)):\n",
    "        if ec(parti[i])*ec(parti[i+1]) < 0:\n",
    "            raiz = raiz_bip(ec,parti[i],parti[i+1])\n",
    "            print raiz\n",
    "            \n",
    "    "
   ]
  },
  {
   "cell_type": "code",
   "execution_count": 7,
   "metadata": {
    "collapsed": true
   },
   "outputs": [],
   "source": [
    "def ec1(x):\n",
    "    return cos(x)+(1.2)*sin(x**x)"
   ]
  },
  {
   "cell_type": "code",
   "execution_count": 8,
   "metadata": {
    "collapsed": false,
    "scrolled": true
   },
   "outputs": [
    {
     "name": "stdout",
     "output_type": "stream",
     "text": [
      "1.81291063947\n",
      "2.65622744408\n",
      "2.70814265702\n",
      "3.08627830395\n",
      "3.18297805452\n",
      "3.82771823508\n",
      "3.83207239336\n",
      "4.2186952023\n",
      "4.543675513\n",
      "4.64001733938\n",
      "4.82440067763\n",
      "5.11929196951\n",
      "5.8544338066\n",
      "5.86130689221\n"
     ]
    }
   ],
   "source": [
    "bip_a(ec1,[0,2*pi],50)"
   ]
  },
  {
   "cell_type": "code",
   "execution_count": 7,
   "metadata": {
    "collapsed": false
   },
   "outputs": [
    {
     "data": {
      "image/png": "[encoded data removed]",
      "text/plain": [
       "<matplotlib.figure.Figure at 0x3d93470>"
      ]
     },
     "metadata": {},
     "output_type": "display_data"
    }
   ],
   "source": [
    "x=linspace(0,2*pi,20000)\n",
    "plot(x,ec1(x))\n",
    "grid(True)\n",
    "plot(1.81291157713,0,'o')\n",
    "plot(2.30680060362,0,'o')\n",
    "plot(2.43535587464,0,'o')\n",
    "plot(2.84974501528,0,'o')\n",
    "plot(3.36045579069,0,'o')\n",
    "show()"
   ]
  },
  {
   "cell_type": "code",
   "execution_count": 10,
   "metadata": {
    "collapsed": false,
    "scrolled": true
   },
   "outputs": [
    {
     "name": "stdout",
     "output_type": "stream",
     "text": [
      "1.81291614738\n",
      "2.30679864038\n",
      "2.43536072234\n",
      "2.65623361252\n",
      "2.70814254932\n",
      "2.98381787556\n",
      "3.00531772773\n",
      "3.08627862581\n",
      "3.10300151607\n",
      "3.16911753687\n",
      "3.18297420224\n",
      "3.23858839855\n",
      "3.25056407067\n",
      "3.54520612848\n",
      "3.55210848968\n",
      "3.9491218679\n",
      "3.96409678341\n",
      "4.14739124062\n",
      "4.19018835496\n",
      "4.34877953333\n",
      "4.35049850203\n",
      "4.36135178666\n",
      "4.36711710677\n",
      "4.37750083932\n",
      "4.3869310451\n",
      "4.3930049857\n",
      "4.40945674536\n",
      "4.429272481\n",
      "4.44430601971\n",
      "4.45277551477\n",
      "4.45417489977\n",
      "4.51299905421\n",
      "4.54368226577\n",
      "4.56748841979\n",
      "4.60099162033\n",
      "4.61306103329\n",
      "4.81819065512\n",
      "4.85678038775\n",
      "4.90401395063\n",
      "4.90743624966\n",
      "4.91771602691\n",
      "4.94587308717\n",
      "4.99313607995\n",
      "5.04738464058\n",
      "5.17689275414\n",
      "5.21515070116\n",
      "5.23388354156\n",
      "5.25430526818\n",
      "5.26107392604\n",
      "5.31183270001\n",
      "5.32821136108\n",
      "5.33427094944\n",
      "5.45878173141\n",
      "5.47142522023\n",
      "5.52820183977\n",
      "5.56160608432\n",
      "5.72684007527\n",
      "5.78381207957\n",
      "5.82525235867\n",
      "5.8269278496\n",
      "5.98188837115\n",
      "6.00141709185\n",
      "6.16021430345\n",
      "6.16147716073\n"
     ]
    }
   ],
   "source": [
    "bip_a(ec1,[0,2*pi],200)"
   ]
  },
  {
   "cell_type": "code",
   "execution_count": 187,
   "metadata": {
    "collapsed": false
   },
   "outputs": [
    {
     "data": {
      "image/png": "[encoded data removed]",
      "text/plain": [
       "<matplotlib.figure.Figure at 0x8483588>"
      ]
     },
     "metadata": {},
     "output_type": "display_data"
    }
   ],
   "source": [
    "x=linspace(0,2*pi,20000)\n",
    "plot(x,ec1(x))\n",
    "grid(True)\n",
    "plot(1.81291157713,0,'o')\n",
    "plot(2.30680060362,0,'o')\n",
    "plot(2.43535587464,0,'o')\n",
    "plot(2.65623080908,0,'o')\n",
    "plot(2.70814726674,0,'o')\n",
    "show()"
   ]
  },
  {
   "cell_type": "markdown",
   "metadata": {},
   "source": [
    "# 2"
   ]
  },
  {
   "cell_type": "code",
   "execution_count": 8,
   "metadata": {
    "collapsed": false
   },
   "outputs": [],
   "source": [
    "def bip_a2(ec,t,p,err=1e-5):\n",
    "    #partición aleatoria del dominio\n",
    "    raiz = zeros(p)\n",
    "    parti = rand(p,t)\n",
    "    for i in (arange(p)):\n",
    "        if ec(parti[i])*ec(parti[i+1]) < 0:\n",
    "            raiz[i] = raiz_bip(ec,parti[i],parti[i+1])\n",
    "    raiz = raiz[raiz !=0]       \n",
    "\n",
    "    return raiz"
   ]
  },
  {
   "cell_type": "code",
   "execution_count": 121,
   "metadata": {
    "collapsed": false
   },
   "outputs": [],
   "source": [
    "def ec2(x,y):\n",
    "    return 2*exp((-1)*((x+1)**2))*((exp((-1)*((y+2)**2))) + exp((-1)*((y-2)**2))) + 6*x*(x**2+y**2)*exp((-1)*(x**2+y**2)) - 1"
   ]
  },
  {
   "cell_type": "code",
   "execution_count": 10,
   "metadata": {
    "collapsed": false
   },
   "outputs": [],
   "source": [
    "def bip_a22(ec,t2,p,err=1e-5):\n",
    "    x = linspace(t2[0],t2[1])\n",
    "    raiz\n",
    "    for n in arange(len(x)):\n",
    "        def ecb(y):\n",
    "            return ec(x[n],y)\n",
    "        raiz = zeros(p)\n",
    "        y = rand(p,t2)\n",
    "        for i in (arange(p)):\n",
    "            if ecb(y[i])*ecb(y[i+1]) < 0:\n",
    "                raizy[i] = raiz_bip(ec,y[i],y[i+1])\n",
    "        raizy = raizy[raizy !=0]\n",
    "        raiz = array([x[n],raizy])\n",
    "    print raiz"
   ]
  },
  {
   "cell_type": "code",
   "execution_count": 116,
   "metadata": {
    "collapsed": true
   },
   "outputs": [],
   "source": [
    "def bip_a23(ec,t2,p,err=1e-5):\n",
    "    x = linspace(t2[0],t2[1],p)\n",
    "    raiz = zeros([p*p,2])\n",
    "    for n in arange(len(x)):\n",
    "        def ecb(y):\n",
    "            return ec(x[n],y)\n",
    "        y = rand(p,t2)\n",
    "        for i in (arange(p)):\n",
    "            if ecb(y[i])*ecb(y[i+1]) < 0:\n",
    "                raizy = raiz_bip(ecb,y[i],y[i+1])\n",
    "                raiz[i+n*p,:] = [x[n],raizy]\n",
    "    raiz = raiz[raiz[:,1] !=0]      \n",
    "    return raiz"
   ]
  },
  {
   "cell_type": "code",
   "execution_count": 126,
   "metadata": {
    "collapsed": false
   },
   "outputs": [],
   "source": [
    "raiz = bip_a23(ec2,[-4,4,-4,4],300)\n",
    "#print raiz"
   ]
  },
  {
   "cell_type": "code",
   "execution_count": 129,
   "metadata": {
    "collapsed": false,
    "scrolled": true
   },
   "outputs": [
    {
     "data": {
      "text/plain": [
       "[<matplotlib.lines.Line2D at 0x93d4208>]"
      ]
     },
     "execution_count": 129,
     "metadata": {},
     "output_type": "execute_result"
    },
    {
     "data": {
      "image/png": "[encoded data removed]",
      "text/plain": [
       "<matplotlib.figure.Figure at 0x928be10>"
      ]
     },
     "metadata": {},
     "output_type": "display_data"
    }
   ],
   "source": [
    "plot(raiz[:,0],raiz[:,1],'o')"
   ]
  },
  {
   "cell_type": "markdown",
   "metadata": {},
   "source": [
    "# 3"
   ]
  },
  {
   "cell_type": "code",
   "execution_count": 130,
   "metadata": {
    "collapsed": true
   },
   "outputs": [],
   "source": [
    "def e_mov(r_v,t,fric=0,g=9.8,m=1):\n",
    "    u = sqrt(r_v[2]**2 + r_v[3]**2)\n",
    "    dx = r_v[2] #porque r_v es una lista que trae las condiciones iniviales...r_v=[x,y,vx,vy] y esto se comporta como [0,1,2,3]\n",
    "    dy = r_v[3]\n",
    "    \n",
    "    if fric==0:\n",
    "        dvx,dvy = 0, -(g/m)\n",
    "        \n",
    "    else:\n",
    "        dvx = -  fric([r_v[2],r_v[3]])[0] #nuestro modelo de fricción sólo depende de la velocidad \n",
    "        dvy = -(g/m) - fric([r_v[2],r_v[3]])[1]\n",
    "\n",
    "    \n",
    "    return array([dx,dy,dvx,dvy])\n"
   ]
  },
  {
   "cell_type": "code",
   "execution_count": 131,
   "metadata": {
    "collapsed": true
   },
   "outputs": [],
   "source": [
    "def fric_id(v):\n",
    "    return array([0,0])\n",
    "\n",
    "def fric_v(v,gamma=0.1):\n",
    "    f_x = gamma*v[0]\n",
    "    f_y = gamma*v[1]\n",
    "    return array([f_x,f_y])\n",
    "\n",
    "def fric_v2(v,gamma=0.1):\n",
    "    norm_v = sqrt(v[0]**2 + v[1]**2)\n",
    "    f_x = gamma*norm_v*v[0]\n",
    "    f_y= gamma*norm_v*v[1]\n",
    "    return array([f_x,f_y])"
   ]
  },
  {
   "cell_type": "code",
   "execution_count": 170,
   "metadata": {
    "collapsed": true
   },
   "outputs": [],
   "source": [
    "def rk4_a(ec,p_ini,x,args=0,h=0.0001):\n",
    "    if (x[1]-x[0]) <= 5.*h:\n",
    "        h = (x[1]-x[0])/10\n",
    "    tiempos = arange(x[0],x[1]+h,h)\n",
    "    sol = zeros((len(tiempos),len(p_ini)))\n",
    "    sol[0,:] = p_ini\n",
    "    if args==0:\n",
    "        for i in xrange(len(tiempos)-1):\n",
    "            k1 = ec(sol[i,:],tiempos[i])\n",
    "            k2 = ec(sol[i,:]+0.5*h*k1,tiempos[i]+0.5*h)\n",
    "            k3 = ec(sol[i,:]+0.5*h*k2,tiempos[i]+0.5*h)\n",
    "            k4 = ec(sol[i,:]+h*k3,tiempos[i]+h)\n",
    "            sol[i+1,:] = sol[i,:] + (h/6.)*(k1+2*k2+2*k3+k4)\n",
    "    else:\n",
    "        for i in xrange(len(tiempos)-1):\n",
    "            k1 = ec(sol[i,:],tiempos[i],args)\n",
    "            k2 = ec(sol[i,:]+0.5*h*k1,tiempos[i]+0.5*h,args)\n",
    "            k3 = ec(sol[i,:]+0.5*h*k2,tiempos[i]+0.5*h,args)\n",
    "            k4 = ec(sol[i,:]+h*k3,tiempos[i]+h,args)\n",
    "            sol[i+1,:] = sol[i,:] + (h/6.)*(k1+2*k2+2*k3+k4)\n",
    "\n",
    "    return tiempos,sol"
   ]
  },
  {
   "cell_type": "code",
   "execution_count": 189,
   "metadata": {
    "collapsed": false
   },
   "outputs": [
    {
     "data": {
      "image/png": "[encoded data removed]",
      "text/plain": [
       "<matplotlib.figure.Figure at 0xbba0b00>"
      ]
     },
     "metadata": {},
     "output_type": "display_data"
    }
   ],
   "source": [
    "p = [0,0,5,5]\n",
    "N = 50\n",
    "ang = pi/12\n",
    "pend = tan(ang)\n",
    "trayectoria = zeros((N,len(p)))\n",
    "mi_dt = .1\n",
    "trayectoria[0,:] = array(p)\n",
    "for i in range(N-1):\n",
    "    t,sol_dt = rk4_a(e_mov,trayectoria[i,:],[0,mi_dt],fric_v)\n",
    "    if (sol_dt[-1,:][1] + pend*sol_dt[-1,:][0]) < 0:\n",
    "        #print \"buscando punto de rebote\"\n",
    "        dt_busqueda = mi_dt/2\n",
    "        y_izq = trayectoria[i,:]\n",
    "        t,sol = rk4_a(e_mov,trayectoria[i,:],[0,dt_busqueda],fric_v)\n",
    "        y_med = sol[-1,:]\n",
    "        while abs(y_izq[1] + pend*y_izq[0]) > 1e-1:\n",
    "            if (y_izq[1] + pend*y_izq[0])*(y_med[1] + pend*y_izq[0]) < 0:\n",
    "                reinicio = y_izq\n",
    "            else:\n",
    "                reinicio = y_med\n",
    "            dt_busqueda = dt_busqueda/2\n",
    "            t,sol = rk4_a(e_mov,reinicio,[0,dt_busqueda],fric_v)\n",
    "            y_izq = reinicio\n",
    "            y_med = sol[-1,:]\n",
    "        y_izq = array([y_izq[0],y_izq[1],(y_izq[2]*cos(ang)-y_izq[3]*sin(ang)),(-y_izq[2]*sin(ang)-y_izq[3]*cos(ang))])\n",
    "        trayectoria[i+1,:] = y_izq    \n",
    "    else:\n",
    "        trayectoria[i+1,:] = sol_dt[-1,:]\n",
    "\n",
    "plot(trayectoria[:,0],trayectoria[:,1],'--')\n",
    "x = linspace(-4,30)\n",
    "plot(x,-tan(ang)*x)\n",
    "plt.axis('equal')\n",
    "grid(True)"
   ]
  },
  {
   "cell_type": "code",
   "execution_count": 191,
   "metadata": {
    "collapsed": false
   },
   "outputs": [
    {
     "data": {
      "image/png": "[encoded data removed]",
      "text/plain": [
       "<matplotlib.figure.Figure at 0xb8ff9b0>"
      ]
     },
     "metadata": {},
     "output_type": "display_data"
    }
   ],
   "source": [
    "p = [0,0,5,5]\n",
    "N = 50\n",
    "ang = pi/6\n",
    "pend = tan(ang)\n",
    "trayectoria = zeros((N,len(p)))\n",
    "mi_dt = .1\n",
    "trayectoria[0,:] = array(p)\n",
    "for i in range(N-1):\n",
    "    t,sol_dt = rk4_a(e_mov,trayectoria[i,:],[0,mi_dt],fric_v)\n",
    "    if (sol_dt[-1,:][1] + pend*sol_dt[-1,:][0]) < 0:\n",
    "        #print \"buscando punto de rebote\"\n",
    "        dt_busqueda = mi_dt/2\n",
    "        y_izq = trayectoria[i,:]\n",
    "        t,sol = rk4_a(e_mov,trayectoria[i,:],[0,dt_busqueda],fric_v)\n",
    "        y_med = sol[-1,:]\n",
    "        while abs(y_izq[1] + pend*y_izq[0]) > 1e-1:\n",
    "            if (y_izq[1] + pend*y_izq[0])*(y_med[1] + pend*y_izq[0]) < 0:\n",
    "                reinicio = y_izq\n",
    "            else:\n",
    "                reinicio = y_med\n",
    "            dt_busqueda = dt_busqueda/2\n",
    "            t,sol = rk4_a(e_mov,reinicio,[0,dt_busqueda],fric_v)\n",
    "            y_izq = reinicio\n",
    "            y_med = sol[-1,:]\n",
    "        y_izq = array([y_izq[0],y_izq[1],(y_izq[2]*cos(ang)-y_izq[3]*sin(ang)),(-y_izq[2]*sin(ang)-y_izq[3]*cos(ang))])\n",
    "        trayectoria[i+1,:] = y_izq    \n",
    "    else:\n",
    "        trayectoria[i+1,:] = sol_dt[-1,:]\n",
    "\n",
    "plot(trayectoria[:,0],trayectoria[:,1],'--')\n",
    "x = linspace(-4,40)\n",
    "plot(x,-tan(ang)*x)\n",
    "plt.axis('equal')\n",
    "grid(True)"
   ]
  },
  {
   "cell_type": "code",
   "execution_count": 193,
   "metadata": {
    "collapsed": false
   },
   "outputs": [
    {
     "data": {
      "image/png": "[encoded data removed]",
      "text/plain": [
       "<matplotlib.figure.Figure at 0xb7b7ac8>"
      ]
     },
     "metadata": {},
     "output_type": "display_data"
    }
   ],
   "source": [
    "p = [0,0,5,5]\n",
    "N = 70\n",
    "ang = pi/4\n",
    "pend = tan(ang)\n",
    "trayectoria = zeros((N,len(p)))\n",
    "mi_dt = .1\n",
    "trayectoria[0,:] = array(p)\n",
    "for i in range(N-1):\n",
    "    t,sol_dt = rk4_a(e_mov,trayectoria[i,:],[0,mi_dt],fric_v)\n",
    "    if (sol_dt[-1,:][1] + pend*sol_dt[-1,:][0]) < 0:\n",
    "        #print \"buscando punto de rebote\"\n",
    "        dt_busqueda = mi_dt/2\n",
    "        y_izq = trayectoria[i,:]\n",
    "        t,sol = rk4_a(e_mov,trayectoria[i,:],[0,dt_busqueda],fric_v)\n",
    "        y_med = sol[-1,:]\n",
    "        while abs(y_izq[1] + pend*y_izq[0]) > 1e-1:\n",
    "            if (y_izq[1] + pend*y_izq[0])*(y_med[1] + pend*y_izq[0]) < 0:\n",
    "                reinicio = y_izq\n",
    "            else:\n",
    "                reinicio = y_med\n",
    "            dt_busqueda = dt_busqueda/2\n",
    "            t,sol = rk4_a(e_mov,reinicio,[0,dt_busqueda],fric_v)\n",
    "            y_izq = reinicio\n",
    "            y_med = sol[-1,:]\n",
    "        y_izq = array([y_izq[0],y_izq[1],(y_izq[2]*cos(ang)-y_izq[3]*sin(ang)),(-y_izq[2]*sin(ang)-y_izq[3]*cos(ang))])\n",
    "        trayectoria[i+1,:] = y_izq    \n",
    "    else:\n",
    "        trayectoria[i+1,:] = sol_dt[-1,:]\n",
    "\n",
    "plot(trayectoria[:,0],trayectoria[:,1],'--')\n",
    "x = linspace(-4,50)\n",
    "plot(x,-tan(ang)*x)\n",
    "plt.axis('equal')\n",
    "grid(True)"
   ]
  },
  {
   "cell_type": "code",
   "execution_count": null,
   "metadata": {
    "collapsed": true
   },
   "outputs": [],
   "source": []
  },
  {
   "cell_type": "code",
   "execution_count": null,
   "metadata": {
    "collapsed": true
   },
   "outputs": [],
   "source": []
  },
  {
   "cell_type": "code",
   "execution_count": 199,
   "metadata": {
    "collapsed": false
   },
   "outputs": [
    {
     "data": {
      "image/png": "[encoded data removed]",
      "text/plain": [
       "<matplotlib.figure.Figure at 0xbb8c3c8>"
      ]
     },
     "metadata": {},
     "output_type": "display_data"
    }
   ],
   "source": [
    "p = [0,0,-5,10]\n",
    "N = 120\n",
    "ang = pi/12\n",
    "pend = tan(ang)\n",
    "trayectoria = zeros((N,len(p)))\n",
    "mi_dt = .1\n",
    "trayectoria[0,:] = array(p)\n",
    "for i in range(N-1):\n",
    "    t,sol_dt = rk4_a(e_mov,trayectoria[i,:],[0,mi_dt],fric_v)\n",
    "    if (sol_dt[-1,:][1] + pend*sol_dt[-1,:][0]) < 0:\n",
    "        #print \"buscando punto de rebote\"\n",
    "        dt_busqueda = mi_dt/2\n",
    "        y_izq = trayectoria[i,:]\n",
    "        t,sol = rk4_a(e_mov,trayectoria[i,:],[0,dt_busqueda],fric_v)\n",
    "        y_med = sol[-1,:]\n",
    "        while abs(y_izq[1] + pend*y_izq[0]) > 1e-1:\n",
    "            if (y_izq[1] + pend*y_izq[0])*(y_med[1] + pend*y_izq[0]) < 0:\n",
    "                reinicio = y_izq\n",
    "            else:\n",
    "                reinicio = y_med\n",
    "            dt_busqueda = dt_busqueda/2\n",
    "            t,sol = rk4_a(e_mov,reinicio,[0,dt_busqueda],fric_v)\n",
    "            y_izq = reinicio\n",
    "            y_med = sol[-1,:]\n",
    "        y_izq = array([y_izq[0],y_izq[1],(y_izq[2]*cos(ang)-y_izq[3]*sin(ang)),(-y_izq[2]*sin(ang)-y_izq[3]*cos(ang))])\n",
    "        trayectoria[i+1,:] = y_izq    \n",
    "    else:\n",
    "        trayectoria[i+1,:] = sol_dt[-1,:]\n",
    "\n",
    "plot(trayectoria[:,0],trayectoria[:,1],'--')\n",
    "x = linspace(-15,30)\n",
    "plot(x,-tan(ang)*x)\n",
    "plt.axis('equal')\n",
    "grid(True)"
   ]
  },
  {
   "cell_type": "code",
   "execution_count": null,
   "metadata": {
    "collapsed": true
   },
   "outputs": [],
   "source": []
  },
  {
   "cell_type": "code",
   "execution_count": null,
   "metadata": {
    "collapsed": true
   },
   "outputs": [],
   "source": []
  },
  {
   "cell_type": "code",
   "execution_count": null,
   "metadata": {
    "collapsed": true
   },
   "outputs": [],
   "source": []
  },
  {
   "cell_type": "code",
   "execution_count": 144,
   "metadata": {
    "collapsed": false
   },
   "outputs": [
    {
     "data": {
      "image/png": "[encoded data removed]",
      "text/plain": [
       "<matplotlib.figure.Figure at 0x9eed4a8>"
      ]
     },
     "metadata": {},
     "output_type": "display_data"
    }
   ],
   "source": [
    "x = linspace(-4,4)\n",
    "plot(x,-tan(pi/12)*x)\n",
    "grid(True)"
   ]
  },
  {
   "cell_type": "code",
   "execution_count": 94,
   "metadata": {
    "collapsed": false
   },
   "outputs": [
    {
     "name": "stdout",
     "output_type": "stream",
     "text": [
      "7\n"
     ]
    }
   ],
   "source": [
    "b= linspace(-4,4,7)\n",
    "a = len(b)\n",
    "print a"
   ]
  },
  {
   "cell_type": "code",
   "execution_count": 63,
   "metadata": {
    "collapsed": false
   },
   "outputs": [
    {
     "name": "stdout",
     "output_type": "stream",
     "text": [
      "[0 1]\n",
      "0.25\n"
     ]
    }
   ],
   "source": [
    "a=arange(2)\n",
    "b= linspace(0,1,5)\n",
    "print a\n",
    "print b[1]"
   ]
  },
  {
   "cell_type": "code",
   "execution_count": 90,
   "metadata": {
    "collapsed": true
   },
   "outputs": [],
   "source": [
    "def bip_a24(ec,t2,p,err=1e-5):\n",
    "    x = [-1.47368421]\n",
    "    raiz = zeros([p*(len(x)),2])\n",
    "    for n in arange(len(x)):\n",
    "        def ecb(y):\n",
    "            return ec(x[n],y)\n",
    "        y = rand(p,t2)\n",
    "        for i in (arange(p)):\n",
    "            if ecb(y[i])*ecb(y[i+1]) < 0:\n",
    "                raizy = raiz_bip(ecb,y[i],y[i+1])\n",
    "                raiz[i*(n+1),:] = [x[n],raizy]\n",
    "    raiz = raiz[raiz[:,0] > 0.001]      \n",
    "    return raiz"
   ]
  },
  {
   "cell_type": "code",
   "execution_count": 91,
   "metadata": {
    "collapsed": false
   },
   "outputs": [
    {
     "name": "stdout",
     "output_type": "stream",
     "text": [
      "[]\n"
     ]
    }
   ],
   "source": [
    "raiz = bip_a24(ec2,[-4,4,-4,4],50)\n",
    "print raiz"
   ]
  },
  {
   "cell_type": "code",
   "execution_count": 48,
   "metadata": {
    "collapsed": false
   },
   "outputs": [
    {
     "name": "stdout",
     "output_type": "stream",
     "text": [
      "[0]\n",
      "[[ 0.  0.]\n",
      " [ 0.  0.]\n",
      " [ 0.  0.]\n",
      " [ 0.  0.]\n",
      " [ 0.  0.]\n",
      " [ 0.  0.]\n",
      " [ 0.  0.]\n",
      " [ 0.  0.]]\n"
     ]
    }
   ],
   "source": [
    "t2 = [0,5]\n",
    "p = 8\n",
    "x = [0]\n",
    "raiz = zeros([p*(len(x)),2])\n",
    "print x\n",
    "print raiz"
   ]
  },
  {
   "cell_type": "code",
   "execution_count": 71,
   "metadata": {
    "collapsed": false
   },
   "outputs": [
    {
     "data": {
      "text/plain": [
       "-0.75674138465536167"
      ]
     },
     "execution_count": 71,
     "metadata": {},
     "output_type": "execute_result"
    }
   ],
   "source": [
    "ec2(-2.41084047,-1.7755432)"
   ]
  },
  {
   "cell_type": "code",
   "execution_count": 15,
   "metadata": {
    "collapsed": false
   },
   "outputs": [
    {
     "name": "stdout",
     "output_type": "stream",
     "text": [
      "[ 1.81290872  2.30680065  2.43535482  2.84974883  2.8803519   2.98381873\n",
      "  3.10299759  3.23858047  3.25056422  3.82772186  3.847391    3.92511275\n",
      "  3.95267316  4.4900268   4.53586694  4.68170636  4.91288571  4.96242213\n",
      "  5.08636734  5.2015583   5.3999847   5.58535366]\n"
     ]
    }
   ],
   "source": [
    "a = bip_a2(ec1,[0,2*pi],50)\n",
    "print a"
   ]
  },
  {
   "cell_type": "code",
   "execution_count": 81,
   "metadata": {
    "collapsed": false
   },
   "outputs": [
    {
     "name": "stdout",
     "output_type": "stream",
     "text": [
      "[0.06966452379149668, 0.42025683802317915, 0.86275229858689739, 1.0390686584199638, 2.0674562043427933, 2.1933629205442844, 2.3058500053400603, 2.3251891121486432, 2.3838079809914654, 2.7868282893666851, 2.9450680018207933, 3.0385158716535043, 3.0882408806565325, 3.636707920411657, 3.7145635353298778, 3.8336173950732566, 3.9359316726410571, 4.245733994403472, 4.5296285052665981, 4.6064925763375424]\n"
     ]
    },
    {
     "data": {
      "text/plain": [
       "<function __main__.rand>"
      ]
     },
     "execution_count": 81,
     "metadata": {},
     "output_type": "execute_result"
    }
   ],
   "source": [
    "bip_a(0,[0,5],20)"
   ]
  },
  {
   "cell_type": "code",
   "execution_count": 74,
   "metadata": {
    "collapsed": false
   },
   "outputs": [
    {
     "name": "stdout",
     "output_type": "stream",
     "text": [
      "[0.1765431751346116, 0.19565450850473753, 0.50866221114498722, 0.7142027006175321, 0.777786035686306, 0.79382318662291484, 0.79459546125030711, 0.84098134726994722, 0.93187432370862666, 0.96997890836439482]\n",
      "4.86388044935\n"
     ]
    }
   ],
   "source": [
    "b=rand(10)\n",
    "c=random.uniform(1,5)\n",
    "print c"
   ]
  },
  {
   "cell_type": "code",
   "execution_count": 72,
   "metadata": {
    "collapsed": false
   },
   "outputs": [
    {
     "name": "stdout",
     "output_type": "stream",
     "text": [
      "[ 2.5  3.5  4.5  5.5]\n",
      "[2 2 2 2]\n",
      "[ 0  2  4  6  8 10 12 14 16 18] [ 0.  0.  0.  0.]\n",
      "[4 4 4 4]\n"
     ]
    }
   ],
   "source": [
    "a=arange(2.5,6)\n",
    "b=array([2]*4)\n",
    "c=arange(10)*2\n",
    "d=zeros(4)\n",
    "print a\n",
    "print b\n",
    "print c,d\n",
    "print b*2"
   ]
  },
  {
   "cell_type": "code",
   "execution_count": 84,
   "metadata": {
    "collapsed": false
   },
   "outputs": [
    {
     "data": {
      "text/plain": [
       "array([1, 2, 3, 4, 5])"
      ]
     },
     "execution_count": 84,
     "metadata": {},
     "output_type": "execute_result"
    }
   ],
   "source": [
    "arange(5)+1"
   ]
  },
  {
   "cell_type": "code",
   "execution_count": 152,
   "metadata": {
    "collapsed": false
   },
   "outputs": [
    {
     "data": {
      "text/plain": [
       "array([ 0.        ,  0.05050505,  0.1010101 ,  0.15151515,  0.2020202 ,\n",
       "        0.25252525,  0.3030303 ,  0.35353535,  0.4040404 ,  0.45454545,\n",
       "        0.50505051,  0.55555556,  0.60606061,  0.65656566,  0.70707071,\n",
       "        0.75757576,  0.80808081,  0.85858586,  0.90909091,  0.95959596,\n",
       "        1.01010101,  1.06060606,  1.11111111,  1.16161616,  1.21212121,\n",
       "        1.26262626,  1.31313131,  1.36363636,  1.41414141,  1.46464646,\n",
       "        1.51515152,  1.56565657,  1.61616162,  1.66666667,  1.71717172,\n",
       "        1.76767677,  1.81818182,  1.86868687,  1.91919192,  1.96969697,\n",
       "        2.02020202,  2.07070707,  2.12121212,  2.17171717,  2.22222222,\n",
       "        2.27272727,  2.32323232,  2.37373737,  2.42424242,  2.47474747,\n",
       "        2.52525253,  2.57575758,  2.62626263,  2.67676768,  2.72727273,\n",
       "        2.77777778,  2.82828283,  2.87878788,  2.92929293,  2.97979798,\n",
       "        3.03030303,  3.08080808,  3.13131313,  3.18181818,  3.23232323,\n",
       "        3.28282828,  3.33333333,  3.38383838,  3.43434343,  3.48484848,\n",
       "        3.53535354,  3.58585859,  3.63636364,  3.68686869,  3.73737374,\n",
       "        3.78787879,  3.83838384,  3.88888889,  3.93939394,  3.98989899,\n",
       "        4.04040404,  4.09090909,  4.14141414,  4.19191919,  4.24242424,\n",
       "        4.29292929,  4.34343434,  4.39393939,  4.44444444,  4.49494949,\n",
       "        4.54545455,  4.5959596 ,  4.64646465,  4.6969697 ,  4.74747475,\n",
       "        4.7979798 ,  4.84848485,  4.8989899 ,  4.94949495,  5.        ])"
      ]
     },
     "execution_count": 152,
     "metadata": {},
     "output_type": "execute_result"
    }
   ],
   "source": [
    "linspace(0,5,100)"
   ]
  },
  {
   "cell_type": "code",
   "execution_count": 232,
   "metadata": {
    "collapsed": false
   },
   "outputs": [
    {
     "name": "stdout",
     "output_type": "stream",
     "text": [
      "[1 0 9]\n",
      "[ 0.  0.  0.]\n"
     ]
    }
   ],
   "source": [
    "x=array([1,0,9])\n",
    "b = trim_zeros(x)\n",
    "print b\n",
    "print zeros(3)"
   ]
  },
  {
   "cell_type": "code",
   "execution_count": 256,
   "metadata": {
    "collapsed": false
   },
   "outputs": [
    {
     "name": "stdout",
     "output_type": "stream",
     "text": [
      "[1 1]\n"
     ]
    }
   ],
   "source": [
    "a=array([1,0,1,0])\n",
    "a = a[a !=0]\n",
    "print b"
   ]
  },
  {
   "cell_type": "code",
   "execution_count": 115,
   "metadata": {
    "collapsed": false
   },
   "outputs": [
    {
     "name": "stdout",
     "output_type": "stream",
     "text": [
      "[[ 1.  1.]\n",
      " [ 2.  2.]]\n"
     ]
    }
   ],
   "source": [
    "a=zeros([3,2])\n",
    "a[0,:]=[1,0]\n",
    "a[1,:]=[1,1]\n",
    "a[2,:]=[2,2]\n",
    "#a[~(a[:,1]==0), :]\n",
    "#a = a[a[:,0] > 0.1]\n",
    "a = a[a[:,1] !=0]  \n",
    "print a"
   ]
  },
  {
   "cell_type": "code",
   "execution_count": 21,
   "metadata": {
    "collapsed": false
   },
   "outputs": [
    {
     "data": {
      "text/plain": [
       "array([0, 1])"
      ]
     },
     "execution_count": 21,
     "metadata": {},
     "output_type": "execute_result"
    }
   ],
   "source": [
    "arange(len([1,2]))"
   ]
  },
  {
   "cell_type": "code",
   "execution_count": 79,
   "metadata": {
    "collapsed": false
   },
   "outputs": [
    {
     "name": "stdout",
     "output_type": "stream",
     "text": [
      "[1 2]\n"
     ]
    }
   ],
   "source": [
    "a=array([1,2])\n",
    "print a"
   ]
  },
  {
   "cell_type": "code",
   "execution_count": 24,
   "metadata": {
    "collapsed": false
   },
   "outputs": [
    {
     "data": {
      "text/plain": [
       "array([[1, 2],\n",
       "       [1, 1]])"
      ]
     },
     "execution_count": 24,
     "metadata": {},
     "output_type": "execute_result"
    }
   ],
   "source": [
    "array([[1,2],[1,1]])"
   ]
  },
  {
   "cell_type": "code",
   "execution_count": null,
   "metadata": {
    "collapsed": true
   },
   "outputs": [],
   "source": []
  }
 ],
 "metadata": {
  "anaconda-cloud": {},
  "kernelspec": {
   "display_name": "Python [Root]",
   "language": "python",
   "name": "Python [Root]"
  },
  "language_info": {
   "codemirror_mode": {
    "name": "ipython",
    "version": 2
   },
   "file_extension": ".py",
   "mimetype": "text/x-python",
   "name": "python",
   "nbconvert_exporter": "python",
   "pygments_lexer": "ipython2",
   "version": "2.7.12"
  }
 },
 "nbformat": 4,
 "nbformat_minor": 0
}
