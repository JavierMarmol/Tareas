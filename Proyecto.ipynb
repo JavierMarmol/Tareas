{
 "cells": [
  {
   "cell_type": "code",
   "execution_count": 1,
   "metadata": {
    "collapsed": true
   },
   "outputs": [],
   "source": [
    "from pylab import *\n",
    "%matplotlib inline"
   ]
  },
  {
   "cell_type": "code",
   "execution_count": 332,
   "metadata": {
    "collapsed": false
   },
   "outputs": [],
   "source": [
    "x = linspace(0,50,100)\n",
    "h = 1\n",
    "k = 1\n",
    "gamma = 0.1\n",
    "r = k/(h*h)*gamma\n",
    "\n",
    "def temp(uu,t):\n",
    "    \n",
    "    for j in range(t):\n",
    "        for i in range(len(x)-2):\n",
    "            uu[i+1] = (1-2*r)*uu[i+1] + r*uu[i] + r*uu[i+2]\n",
    "        \n",
    "    return uu"
   ]
  },
  {
   "cell_type": "code",
   "execution_count": 334,
   "metadata": {
    "collapsed": false
   },
   "outputs": [
    {
     "data": {
      "image/png": "[encoded data removed]",
      "text/plain": [
       "<matplotlib.figure.Figure at 0x7f55080>"
      ]
     },
     "metadata": {},
     "output_type": "display_data"
    }
   ],
   "source": [
    "u = zeros(len(x))\n",
    "u[0] = 1\n",
    "u[len(x)-1] = 0\n",
    "\n",
    "w = temp(u,2000)\n",
    "\n",
    "plot(x,w)\n",
    "xlim(0,50)\n",
    "ylim(-0.1,1.1)\n",
    "grid(True)\n",
    "show()"
   ]
  },
  {
   "cell_type": "code",
   "execution_count": null,
   "metadata": {
    "collapsed": true
   },
   "outputs": [],
   "source": []
  }
 ],
 "metadata": {
  "kernelspec": {
   "display_name": "Python [Root]",
   "language": "python",
   "name": "Python [Root]"
  },
  "language_info": {
   "codemirror_mode": {
    "name": "ipython",
    "version": 2
   },
   "file_extension": ".py",
   "mimetype": "text/x-python",
   "name": "python",
   "nbconvert_exporter": "python",
   "pygments_lexer": "ipython2",
   "version": "2.7.12"
  }
 },
 "nbformat": 4,
 "nbformat_minor": 0
}
