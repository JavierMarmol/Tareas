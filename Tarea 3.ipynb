{
 "cells": [
  {
   "cell_type": "code",
   "execution_count": 1,
   "metadata": {
    "collapsed": true
   },
   "outputs": [],
   "source": [
    "from pylab import *\n",
    "%matplotlib inline"
   ]
  },
  {
   "cell_type": "markdown",
   "metadata": {},
   "source": [
    "# 1\n",
    "\n",
    "Se tiene la ecuación de movimiento del oscilador armónico, la cual es\n",
    "\n",
    "$$\n",
    "\\vec F = -k \\vec r + \\vec f_{fric}\n",
    "$$\n",
    "\n",
    "lo cual se puede ver también como\n",
    "\n",
    "$$\n",
    "\\frac{\\delta^2 \\vec r}{\\delta t^2} = - \\frac{k}{m} \\vec r + \\vec f_{fric}\n",
    "$$\n",
    "\n",
    "Lo cual nos lleva al siguiente sistema de ecuaciones\n",
    "\n",
    "$$\n",
    "\\vec u = \\frac{\\delta \\vec r}{\\delta t}\n",
    "$$\n",
    "$$\n",
    "\\frac{\\delta \\vec u}{\\delta t} = - \\frac{k}{m} \\vec r + \\vec f_{fric}\n",
    "$$\n",
    "\n",
    "donde $ \\vec f_{fric}$ es\n",
    "\n",
    "$$\n",
    "\\vec f_{fric} = - \\gamma \\vec v\n",
    "$$\n",
    "\n",
    "si $\\lvert \\vec v \\lvert < 1$. Por otro lado, cuando $\\lvert \\vec v \\lvert > 1$ la fricción vale\n",
    "\n",
    "$$\n",
    "\\vec f_{fric} = - \\mu  v^{3/2} \\hat v = - \\mu  v^{1/2} \\vec v\n",
    "$$\n",
    "\n",
    "Entonces las ecuaciones de movimiento en cartesianas son:"
   ]
  },
  {
   "cell_type": "code",
   "execution_count": 74,
   "metadata": {
    "collapsed": true
   },
   "outputs": [],
   "source": [
    "def oscilador_c(r_v,t,fric,k_g_mu):\n",
    "    dx = r_v[2]\n",
    "    dy = r_v[3]\n",
    "    \n",
    "    if fric==0:\n",
    "        dvx = -k_g_mu[0]*r_v[0]\n",
    "        dvy = -k_g_mu[0]*r_v[1]\n",
    "        \n",
    "    else:\n",
    "        dvx = -k_g_mu[0]*r_v[0] + fric(r_v[2],r_v[3],k_g_mu)[0]\n",
    "        dvy = -k_g_mu[0]*r_v[1] + fric(r_v[2],r_v[3],k_g_mu)[1]\n",
    "        \n",
    "    return array([dx,dy,dvx,dvy])"
   ]
  },
  {
   "cell_type": "code",
   "execution_count": 82,
   "metadata": {
    "collapsed": false
   },
   "outputs": [],
   "source": [
    "def fric1_c(vx,vy,k_g_mu):\n",
    "    return array([-k_g_mu[1]*vx,-k_g_mu[1]*vy])\n",
    "\n",
    "def fric2_c(vx,vy,k_g_mu):\n",
    "    v = (vx**2 + vy**2)**(0.5)\n",
    "    f1 = -k_g_mu[2]*v*vx\n",
    "    f2 = -k_g_mu[2]*v*vy\n",
    "    return array([f1,f2])\n",
    "    "
   ]
  },
  {
   "cell_type": "markdown",
   "metadata": {},
   "source": [
    "Y en polares:"
   ]
  },
  {
   "cell_type": "code",
   "execution_count": 125,
   "metadata": {
    "collapsed": true
   },
   "outputs": [],
   "source": [
    "def oscilador_p(r_v,t,fric,k_g_mu):\n",
    "    dr = r_v[1]\n",
    "\n",
    "    if fric==0:\n",
    "        dvr = -k_g_mu[0]*r_v[0]\n",
    "        \n",
    "    else:\n",
    "        dvr = -k_g_mu[0]*r_v[0] + fric(r_v[1],k_g_mu)\n",
    "        \n",
    "    return array([dr,dvr])"
   ]
  },
  {
   "cell_type": "code",
   "execution_count": 173,
   "metadata": {
    "collapsed": true
   },
   "outputs": [],
   "source": [
    "def fric1_p(vr,k_g_mu):\n",
    "    return -k_g_mu[1]*vr\n",
    "\n",
    "def fric2_p(vr,k_g_mu):\n",
    "    f = -k_g_mu[2]*(vr**(3/2))\n",
    "    return f\n",
    "    "
   ]
  },
  {
   "cell_type": "markdown",
   "metadata": {},
   "source": [
    "Para resolver esto usaremos el integrador RK4 con argumentos"
   ]
  },
  {
   "cell_type": "code",
   "execution_count": 128,
   "metadata": {
    "collapsed": true
   },
   "outputs": [],
   "source": [
    "def rk4(ec,p_ini,x,args=0,h=0.0001):\n",
    "    if (x[1]-x[0]) <= 5.*h:\n",
    "        h = (x[1]-x[0])/10\n",
    "    tiempos = arange(x[0],x[1]+h,h)\n",
    "    sol = zeros((len(tiempos),len(p_ini)))\n",
    "    sol[0,:] = p_ini\n",
    "    if args==0:\n",
    "        for i in xrange(len(tiempos)-1):\n",
    "            k1 = ec(sol[i,:],tiempos[i])\n",
    "            k2 = ec(sol[i,:]+0.5*h*k1,tiempos[i]+0.5*h)\n",
    "            k3 = ec(sol[i,:]+0.5*h*k2,tiempos[i]+0.5*h)\n",
    "            k4 = ec(sol[i,:]+h*k3,tiempos[i]+h)\n",
    "            sol[i+1,:] = sol[i,:] + (h/6.)*(k1+2*k2+2*k3+k4)\n",
    "    else:\n",
    "        for i in xrange(len(tiempos)-1):\n",
    "            k1 = ec(sol[i,:],tiempos[i],args)\n",
    "            k2 = ec(sol[i,:]+0.5*h*k1,tiempos[i]+0.5*h,args)\n",
    "            k3 = ec(sol[i,:]+0.5*h*k2,tiempos[i]+0.5*h,args)\n",
    "            k4 = ec(sol[i,:]+h*k3,tiempos[i]+h,args)\n",
    "            sol[i+1,:] = sol[i,:] + (h/6.)*(k1+2*k2+2*k3+k4)\n",
    "\n",
    "    return tiempos,sol"
   ]
  },
  {
   "cell_type": "code",
   "execution_count": 174,
   "metadata": {
    "collapsed": true
   },
   "outputs": [],
   "source": [
    "def ecp1(r_v,t,k_g_mu):\n",
    "    return oscilador_p(r_v,t,fric1_p,k_g_mu)\n",
    "\n",
    "def ecp2(r_v,t,k_g_mu):\n",
    "    return oscilador_p(r_v,t,fric2_p,k_g_mu)"
   ]
  },
  {
   "cell_type": "code",
   "execution_count": 203,
   "metadata": {
    "collapsed": false
   },
   "outputs": [],
   "source": [
    "def oscilacion(p,N,k_g_mu):\n",
    "    trayectoria = zeros((N,len(p)))\n",
    "    trayectoria[0,:] = p\n",
    "    mi_dt = .1\n",
    "\n",
    "    for i in range(N-1):\n",
    "\n",
    "        if abs(trayectoria[i,:][1]) < 1:\n",
    "            t,sol = rk4(ecp1,trayectoria[i,:],[0,mi_dt],k_g_mu)\n",
    "            trayectoria[i+1,:] = sol[-1,:]\n",
    "            \n",
    "        else:\n",
    "            t,sol = rk4(ecp2,trayectoria[i,:],[0,mi_dt],k_g_mu)\n",
    "            trayectoria[i+1,:] = sol[-1,:]\n",
    "            \n",
    "    return trayectoria"
   ]
  },
  {
   "cell_type": "code",
   "execution_count": 266,
   "metadata": {
    "collapsed": false,
    "scrolled": true
   },
   "outputs": [
    {
     "data": {
      "text/plain": [
       "[<matplotlib.lines.Line2D at 0xd2e7f60>,\n",
       " <matplotlib.lines.Line2D at 0xd2f8160>]"
      ]
     },
     "execution_count": 266,
     "metadata": {},
     "output_type": "execute_result"
    },
    {
     "data": {
      "image/png": "[encoded data removed]",
      "text/plain": [
       "<matplotlib.figure.Figure at 0xcf18278>"
      ]
     },
     "metadata": {},
     "output_type": "display_data"
    }
   ],
   "source": [
    "osc1 = oscilacion([1,0],200,[1,0.1,0.2])\n",
    "osc2 = oscilacion([1,0],200,[1,0.1,0])\n",
    "#print osc\n",
    "plot(osc1[:,0],osc1[:,1],osc2[:,0],osc2[:,1])"
   ]
  },
  {
   "cell_type": "code",
   "execution_count": 267,
   "metadata": {
    "collapsed": false
   },
   "outputs": [
    {
     "ename": "IndexError",
     "evalue": "index 100 is out of bounds for axis 0 with size 100",
     "output_type": "error",
     "traceback": [
      "\u001b[1;31m---------------------------------------------------------------------------\u001b[0m",
      "\u001b[1;31mIndexError\u001b[0m                                Traceback (most recent call last)",
      "\u001b[1;32m<ipython-input-267-f1a7d50b25a3>\u001b[0m in \u001b[0;36m<module>\u001b[1;34m()\u001b[0m\n\u001b[0;32m      1\u001b[0m \u001b[1;32mfor\u001b[0m \u001b[0mi\u001b[0m \u001b[1;32min\u001b[0m \u001b[0marange\u001b[0m\u001b[1;33m(\u001b[0m\u001b[1;36m200\u001b[0m\u001b[1;33m)\u001b[0m\u001b[1;33m:\u001b[0m\u001b[1;33m\u001b[0m\u001b[0m\n\u001b[1;32m----> 2\u001b[1;33m     \u001b[0mE1\u001b[0m\u001b[1;33m[\u001b[0m\u001b[0mi\u001b[0m\u001b[1;33m]\u001b[0m \u001b[1;33m=\u001b[0m \u001b[1;33m(\u001b[0m\u001b[1;36m0.5\u001b[0m\u001b[1;33m)\u001b[0m\u001b[1;33m*\u001b[0m\u001b[0mosc1\u001b[0m\u001b[1;33m[\u001b[0m\u001b[0mi\u001b[0m\u001b[1;33m,\u001b[0m\u001b[1;36m1\u001b[0m\u001b[1;33m]\u001b[0m\u001b[1;33m**\u001b[0m\u001b[1;36m2\u001b[0m \u001b[1;33m+\u001b[0m \u001b[1;36m0.5\u001b[0m\u001b[1;33m*\u001b[0m\u001b[0mosc1\u001b[0m\u001b[1;33m[\u001b[0m\u001b[0mi\u001b[0m\u001b[1;33m,\u001b[0m\u001b[1;36m0\u001b[0m\u001b[1;33m]\u001b[0m\u001b[1;33m**\u001b[0m\u001b[1;36m2\u001b[0m\u001b[1;33m\u001b[0m\u001b[0m\n\u001b[0m\u001b[0;32m      3\u001b[0m     \u001b[0mE2\u001b[0m\u001b[1;33m[\u001b[0m\u001b[0mi\u001b[0m\u001b[1;33m]\u001b[0m \u001b[1;33m=\u001b[0m \u001b[1;33m(\u001b[0m\u001b[1;36m0.5\u001b[0m\u001b[1;33m)\u001b[0m\u001b[1;33m*\u001b[0m\u001b[0mosc2\u001b[0m\u001b[1;33m[\u001b[0m\u001b[0mi\u001b[0m\u001b[1;33m,\u001b[0m\u001b[1;36m1\u001b[0m\u001b[1;33m]\u001b[0m\u001b[1;33m**\u001b[0m\u001b[1;36m2\u001b[0m \u001b[1;33m+\u001b[0m \u001b[1;36m0\u001b[0m\u001b[1;33m*\u001b[0m\u001b[0mosc2\u001b[0m\u001b[1;33m[\u001b[0m\u001b[0mi\u001b[0m\u001b[1;33m,\u001b[0m\u001b[1;36m0\u001b[0m\u001b[1;33m]\u001b[0m\u001b[1;33m**\u001b[0m\u001b[1;36m2\u001b[0m\u001b[1;33m\u001b[0m\u001b[0m\n\u001b[0;32m      4\u001b[0m \u001b[1;31m#print E1\u001b[0m\u001b[1;33m\u001b[0m\u001b[1;33m\u001b[0m\u001b[0m\n\u001b[0;32m      5\u001b[0m \u001b[1;31m#plot[osc1[:,0],E1,osc2[:,0],E2]\u001b[0m\u001b[1;33m\u001b[0m\u001b[1;33m\u001b[0m\u001b[0m\n",
      "\u001b[1;31mIndexError\u001b[0m: index 100 is out of bounds for axis 0 with size 100"
     ]
    }
   ],
   "source": [
    "for i in arange(200):\n",
    "    E1[i] = (0.5)*osc1[i,1]**2 + 0.5*osc1[i,0]**2\n",
    "    E2[i] = (0.5)*osc2[i,1]**2 + 0*osc2[i,0]**2\n",
    "#print E1\n",
    "#plot[osc1[:,0],E1,osc2[:,0],E2]"
   ]
  },
  {
   "cell_type": "code",
   "execution_count": 268,
   "metadata": {
    "collapsed": false
   },
   "outputs": [
    {
     "data": {
      "text/plain": [
       "[<matplotlib.lines.Line2D at 0xd409a90>]"
      ]
     },
     "execution_count": 268,
     "metadata": {},
     "output_type": "execute_result"
    },
    {
     "data": {
      "image/png": "[encoded data removed]",
      "text/plain": [
       "<matplotlib.figure.Figure at 0xd45a128>"
      ]
     },
     "metadata": {},
     "output_type": "display_data"
    }
   ],
   "source": [
    "plot(osc1[:,0],(0.5)*osc1[:,1]**2 + 0.5*osc1[:,0]**2)"
   ]
  },
  {
   "cell_type": "code",
   "execution_count": 269,
   "metadata": {
    "collapsed": false
   },
   "outputs": [
    {
     "data": {
      "text/plain": [
       "[<matplotlib.lines.Line2D at 0xd706978>]"
      ]
     },
     "execution_count": 269,
     "metadata": {},
     "output_type": "execute_result"
    },
    {
     "data": {
      "image/png": "[encoded data removed]",
      "text/plain": [
       "<matplotlib.figure.Figure at 0xcfcc8d0>"
      ]
     },
     "metadata": {},
     "output_type": "display_data"
    }
   ],
   "source": [
    "x = linspace(0,200,100)\n",
    "plot(x,E1)"
   ]
  },
  {
   "cell_type": "code",
   "execution_count": 198,
   "metadata": {
    "collapsed": false
   },
   "outputs": [
    {
     "name": "stdout",
     "output_type": "stream",
     "text": [
      "[[ 2.          0.        ]\n",
      " [ 1.99004155 -0.19867182]\n",
      " [ 1.96039743 -0.39339165]\n",
      " [ 1.91155825 -0.58226293]\n",
      " [ 1.84420056 -0.76346613]\n",
      " [ 1.75917826 -0.93527604]\n",
      " [ 1.65751242 -1.09607801]\n",
      " [ 1.54037938 -1.24438291]\n",
      " [ 1.40909758 -1.37884064]\n",
      " [ 1.26511297 -1.49825223]\n",
      " [ 1.10998344 -1.60158021]\n",
      " [ 0.94536216 -1.68795736]\n",
      " [ 0.7729802  -1.75669357]\n",
      " [ 0.59462861 -1.80728101]\n",
      " [ 0.41213991 -1.83939733]\n",
      " [ 0.22736957 -1.85290703]\n",
      " [ 0.04217724 -1.84786093]\n",
      " [-0.14159172 -1.82449383]\n",
      " [-0.32212445 -1.78322034]\n",
      " [-0.49765834 -1.72462898]\n",
      " [-0.66649797 -1.64947456]\n",
      " [-0.82703138 -1.55866906]\n",
      " [-0.97774522 -1.453271  ]\n",
      " [-1.1172388  -1.33447343]\n",
      " [-1.24423695 -1.20359074]\n",
      " [-1.35760139 -1.0620444 ]\n",
      " [-1.45634073 -0.91134776]\n",
      " [-1.53961884 -0.75309006]\n",
      " [-1.60676161 -0.58891993]\n",
      " [-1.65726208 -0.42052835]\n",
      " [-1.69078377 -0.24963145]\n",
      " [-1.70716234 -0.0779532 ]\n",
      " [-1.70640554  0.09279183]\n",
      " [-1.6886914   0.26091539]\n",
      " [-1.65436476  0.4247721 ]\n",
      " [-1.60393218  0.58277538]\n",
      " [-1.53805532  0.73341262]\n",
      " [-1.45754278  0.87525949]\n",
      " [-1.36334065  1.00699325]\n",
      " [-1.25652168  1.12740482]\n",
      " [-1.13827339  1.23540976]\n",
      " [-1.00988511  1.33005775]\n",
      " [-0.87273417  1.4105407 ]\n",
      " [-0.72827129  1.4761994 ]\n",
      " [-0.57800545  1.5265286 ]\n",
      " [-0.42348832  1.56118046]\n",
      " [-0.2662984   1.57996646]\n",
      " [-0.10802503  1.5828577 ]\n",
      " [ 0.04974746  1.56998359]\n",
      " [ 0.2054555   1.54162901]]\n"
     ]
    }
   ],
   "source": [
    "a = oscilacion([2,0],50,[1,0.1,0])\n",
    "print a"
   ]
  },
  {
   "cell_type": "code",
   "execution_count": null,
   "metadata": {
    "collapsed": true
   },
   "outputs": [],
   "source": []
  },
  {
   "cell_type": "code",
   "execution_count": null,
   "metadata": {
    "collapsed": true
   },
   "outputs": [],
   "source": []
  },
  {
   "cell_type": "code",
   "execution_count": null,
   "metadata": {
    "collapsed": true
   },
   "outputs": [],
   "source": []
  },
  {
   "cell_type": "code",
   "execution_count": null,
   "metadata": {
    "collapsed": true
   },
   "outputs": [],
   "source": []
  },
  {
   "cell_type": "code",
   "execution_count": 99,
   "metadata": {
    "collapsed": false
   },
   "outputs": [
    {
     "data": {
      "text/plain": [
       "array([[ 0.,  0.],\n",
       "       [ 0.,  0.],\n",
       "       [ 0.,  0.],\n",
       "       [ 0.,  0.],\n",
       "       [ 0.,  0.],\n",
       "       [ 0.,  0.],\n",
       "       [ 0.,  0.],\n",
       "       [ 0.,  0.],\n",
       "       [ 0.,  0.],\n",
       "       [ 0.,  0.]])"
      ]
     },
     "execution_count": 99,
     "metadata": {},
     "output_type": "execute_result"
    }
   ],
   "source": [
    "zeros((10,2))"
   ]
  },
  {
   "cell_type": "code",
   "execution_count": 63,
   "metadata": {
    "collapsed": false
   },
   "outputs": [
    {
     "name": "stdout",
     "output_type": "stream",
     "text": [
      "[-0.28284271 -0.28284271]\n"
     ]
    }
   ],
   "source": [
    "a=fric2(1,1,[1,0.1,0.2])\n",
    "print a"
   ]
  },
  {
   "cell_type": "code",
   "execution_count": 70,
   "metadata": {
    "collapsed": false
   },
   "outputs": [
    {
     "name": "stdout",
     "output_type": "stream",
     "text": [
      "[ 3.  4. -4. -6.]\n"
     ]
    }
   ],
   "source": [
    "a=oscilador([1,2,3,4],1,fric2,[1,0.1,0.2])\n",
    "print a"
   ]
  },
  {
   "cell_type": "code",
   "execution_count": null,
   "metadata": {
    "collapsed": true
   },
   "outputs": [],
   "source": []
  },
  {
   "cell_type": "code",
   "execution_count": 4,
   "metadata": {
    "collapsed": false
   },
   "outputs": [
    {
     "name": "stdout",
     "output_type": "stream",
     "text": [
      "[1 2 3]\n"
     ]
    }
   ],
   "source": [
    "a=array([1,2,3])\n",
    "print a"
   ]
  },
  {
   "cell_type": "code",
   "execution_count": 56,
   "metadata": {
    "collapsed": false
   },
   "outputs": [
    {
     "data": {
      "text/plain": [
       "9"
      ]
     },
     "execution_count": 56,
     "metadata": {},
     "output_type": "execute_result"
    }
   ],
   "source": [
    "3**2"
   ]
  },
  {
   "cell_type": "code",
   "execution_count": 108,
   "metadata": {
    "collapsed": false
   },
   "outputs": [
    {
     "name": "stdout",
     "output_type": "stream",
     "text": [
      "[[ 0.  0.]\n",
      " [ 0.  0.]\n",
      " [ 0.  0.]\n",
      " [ 0.  0.]\n",
      " [ 0.  0.]]\n"
     ]
    }
   ],
   "source": [
    "p = [1,1]\n",
    "N = 5\n",
    "a=trayectoria = zeros((N,len(p)))\n",
    "print a"
   ]
  },
  {
   "cell_type": "code",
   "execution_count": 215,
   "metadata": {
    "collapsed": false
   },
   "outputs": [
    {
     "name": "stdout",
     "output_type": "stream",
     "text": [
      "[ 0  1  2  3  4  5  6  7  8  9 10 11 12 13 14 15 16 17 18 19 20 21 22 23 24\n",
      " 25 26 27 28 29 30 31 32 33 34 35 36 37 38 39 40 41 42 43 44 45 46 47 48 49\n",
      " 50 51 52 53 54 55 56 57 58 59 60 61 62 63 64 65 66 67 68 69 70 71 72 73 74\n",
      " 75 76 77 78 79 80 81 82 83 84 85 86 87 88 89 90 91 92 93 94 95 96 97 98 99]\n"
     ]
    }
   ],
   "source": [
    "print arange(100)"
   ]
  },
  {
   "cell_type": "code",
   "execution_count": 226,
   "metadata": {
    "collapsed": false
   },
   "outputs": [
    {
     "name": "stdout",
     "output_type": "stream",
     "text": [
      "[   1.            3.02040816    5.04081633    7.06122449    9.08163265\n",
      "   11.10204082   13.12244898   15.14285714   17.16326531   19.18367347\n",
      "   21.20408163   23.2244898    25.24489796   27.26530612   29.28571429\n",
      "   31.30612245   33.32653061   35.34693878   37.36734694   39.3877551\n",
      "   41.40816327   43.42857143   45.44897959   47.46938776   49.48979592\n",
      "   51.51020408   53.53061224   55.55102041   57.57142857   59.59183673\n",
      "   61.6122449    63.63265306   65.65306122   67.67346939   69.69387755\n",
      "   71.71428571   73.73469388   75.75510204   77.7755102    79.79591837\n",
      "   81.81632653   83.83673469   85.85714286   87.87755102   89.89795918\n",
      "   91.91836735   93.93877551   95.95918367   97.97959184  100.        ]\n"
     ]
    }
   ],
   "source": [
    "print linspace(1,100)"
   ]
  },
  {
   "cell_type": "code",
   "execution_count": null,
   "metadata": {
    "collapsed": true
   },
   "outputs": [],
   "source": []
  }
 ],
 "metadata": {
  "kernelspec": {
   "display_name": "Python [Root]",
   "language": "python",
   "name": "Python [Root]"
  },
  "language_info": {
   "codemirror_mode": {
    "name": "ipython",
    "version": 2
   },
   "file_extension": ".py",
   "mimetype": "text/x-python",
   "name": "python",
   "nbconvert_exporter": "python",
   "pygments_lexer": "ipython2",
   "version": "2.7.12"
  }
 },
 "nbformat": 4,
 "nbformat_minor": 0
}
